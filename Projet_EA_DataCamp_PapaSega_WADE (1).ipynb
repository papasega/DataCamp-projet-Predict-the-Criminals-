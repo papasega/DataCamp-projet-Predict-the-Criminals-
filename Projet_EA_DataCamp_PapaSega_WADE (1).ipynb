{
 "cells": [
  {
   "cell_type": "markdown",
   "metadata": {},
   "source": [
    "#  Projet EA Data Camp: Predict the Criminals \n",
    "\n",
    "\n",
    "\n",
    "\n",
    "\n"
   ]
  },
  {
   "cell_type": "markdown",
   "metadata": {},
   "source": [
    "\n",
    "# 1. Introduction \n",
    "\n",
    "#### Ce projet est un challenge proposé sur le platform de HackerEarth sur le lien suivant [HackerEarth](https://www.hackerearth.com/en-us/challenge/competitive/predict-the-criminal/instructions/) .\n",
    "La Méthode que nous allons préceder pour ce projet consiste à faire d'abord de l'Analyse de Données Exploratoire puis de faire de faire des prédictions avec les algorithmes de machine learning. \n",
    "\n",
    "## 1.1. Description des données\n",
    "\n",
    "Il y a eu une montée dans des crimes engagés ces dernières années, faisant le crime une cause supérieure de préoccupation pour l'application de la loi. Si nous pouvons estimer si quelqu'un va commettre un crime dans l'avenir, nous pouvons prendre ses précautions et être préparé.\n",
    "Pour cela nous disposons d'un jeu de données contenant des réponses à des question diverses concernant concernant les vies privées et proffetionnelles de plusieurs personnes.\n",
    "Quelques-uns d'entre eux ont été arrêtés pour des petits et grands crimes divers dans le passé.\n",
    "Nous utiliser les données données pour prévoir si les gens dans les données de test commettraient un crime. \n",
    "Les données de train consistent en 45718 lignes, tandis que les données de test consistent en 11430 lignes.\n"
   ]
  },
  {
   "cell_type": "code",
   "execution_count": 4,
   "metadata": {},
   "outputs": [],
   "source": [
    "import pandas as pd\n",
    "import numpy as np\n",
    "from sklearn import preprocessing\n",
    "import matplotlib.pyplot as plt \n",
    "plt.rc(\"font\", size=14)\n",
    "from sklearn.linear_model import LogisticRegression\n",
    "from sklearn.cross_validation import train_test_split\n",
    "import seaborn as sns\n",
    "sns.set(style=\"white\")\n",
    "sns.set(style=\"whitegrid\", color_codes=True)\n",
    "import warnings\n",
    "warnings.filterwarnings('ignore')\n",
    "%matplotlib inline\n",
    "\n",
    "\n"
   ]
  },
  {
   "cell_type": "markdown",
   "metadata": {},
   "source": [
    "## 1.2. Chargement des données \n",
    "\n"
   ]
  },
  {
   "cell_type": "code",
   "execution_count": 5,
   "metadata": {
    "scrolled": true
   },
   "outputs": [
    {
     "name": "stdout",
     "output_type": "stream",
     "text": [
      "train shape: (45718, 72)\n",
      "test shape: (11430, 71)\n",
      "45718 train samples\n",
      "11430 test samples\n"
     ]
    }
   ],
   "source": [
    "train = pd.read_csv('C:/Users/hp/Desktop/Cours_3A/DataCamp/Projet_data_camp/criminal_train.csv')\n",
    "test = pd.read_csv('C:/Users/hp/Desktop/Cours_3A/DataCamp/Projet_data_camp/criminal_test.csv')\n",
    "\n",
    "print('train shape:', train.shape)\n",
    "print('test shape:', test.shape)\n",
    "\n",
    "print(train.shape[0], 'train samples')\n",
    "print(test.shape[0], 'test samples')"
   ]
  },
  {
   "cell_type": "code",
   "execution_count": 6,
   "metadata": {},
   "outputs": [
    {
     "data": {
      "text/html": [
       "<div>\n",
       "<style scoped>\n",
       "    .dataframe tbody tr th:only-of-type {\n",
       "        vertical-align: middle;\n",
       "    }\n",
       "\n",
       "    .dataframe tbody tr th {\n",
       "        vertical-align: top;\n",
       "    }\n",
       "\n",
       "    .dataframe thead th {\n",
       "        text-align: right;\n",
       "    }\n",
       "</style>\n",
       "<table border=\"1\" class=\"dataframe\">\n",
       "  <thead>\n",
       "    <tr style=\"text-align: right;\">\n",
       "      <th></th>\n",
       "      <th>PERID</th>\n",
       "      <th>IFATHER</th>\n",
       "      <th>NRCH17_2</th>\n",
       "      <th>IRHHSIZ2</th>\n",
       "      <th>IIHHSIZ2</th>\n",
       "      <th>IRKI17_2</th>\n",
       "      <th>IIKI17_2</th>\n",
       "      <th>IRHH65_2</th>\n",
       "      <th>IIHH65_2</th>\n",
       "      <th>PRXRETRY</th>\n",
       "      <th>...</th>\n",
       "      <th>TOOLONG</th>\n",
       "      <th>TROUBUND</th>\n",
       "      <th>PDEN10</th>\n",
       "      <th>COUTYP2</th>\n",
       "      <th>MAIIN102</th>\n",
       "      <th>AIIND102</th>\n",
       "      <th>ANALWT_C</th>\n",
       "      <th>VESTR</th>\n",
       "      <th>VEREP</th>\n",
       "      <th>Criminal</th>\n",
       "    </tr>\n",
       "  </thead>\n",
       "  <tbody>\n",
       "    <tr>\n",
       "      <th>0</th>\n",
       "      <td>25095143</td>\n",
       "      <td>4</td>\n",
       "      <td>2</td>\n",
       "      <td>4</td>\n",
       "      <td>1</td>\n",
       "      <td>3</td>\n",
       "      <td>1</td>\n",
       "      <td>1</td>\n",
       "      <td>1</td>\n",
       "      <td>99</td>\n",
       "      <td>...</td>\n",
       "      <td>1</td>\n",
       "      <td>2</td>\n",
       "      <td>1</td>\n",
       "      <td>1</td>\n",
       "      <td>2</td>\n",
       "      <td>2</td>\n",
       "      <td>3884.805998</td>\n",
       "      <td>40026</td>\n",
       "      <td>1</td>\n",
       "      <td>0</td>\n",
       "    </tr>\n",
       "    <tr>\n",
       "      <th>1</th>\n",
       "      <td>13005143</td>\n",
       "      <td>4</td>\n",
       "      <td>1</td>\n",
       "      <td>3</td>\n",
       "      <td>1</td>\n",
       "      <td>2</td>\n",
       "      <td>1</td>\n",
       "      <td>1</td>\n",
       "      <td>1</td>\n",
       "      <td>99</td>\n",
       "      <td>...</td>\n",
       "      <td>2</td>\n",
       "      <td>2</td>\n",
       "      <td>2</td>\n",
       "      <td>3</td>\n",
       "      <td>2</td>\n",
       "      <td>2</td>\n",
       "      <td>1627.108106</td>\n",
       "      <td>40015</td>\n",
       "      <td>2</td>\n",
       "      <td>1</td>\n",
       "    </tr>\n",
       "    <tr>\n",
       "      <th>2</th>\n",
       "      <td>67415143</td>\n",
       "      <td>4</td>\n",
       "      <td>1</td>\n",
       "      <td>2</td>\n",
       "      <td>1</td>\n",
       "      <td>2</td>\n",
       "      <td>1</td>\n",
       "      <td>1</td>\n",
       "      <td>1</td>\n",
       "      <td>99</td>\n",
       "      <td>...</td>\n",
       "      <td>2</td>\n",
       "      <td>2</td>\n",
       "      <td>2</td>\n",
       "      <td>3</td>\n",
       "      <td>2</td>\n",
       "      <td>2</td>\n",
       "      <td>4344.957980</td>\n",
       "      <td>40024</td>\n",
       "      <td>1</td>\n",
       "      <td>0</td>\n",
       "    </tr>\n",
       "    <tr>\n",
       "      <th>3</th>\n",
       "      <td>70925143</td>\n",
       "      <td>4</td>\n",
       "      <td>0</td>\n",
       "      <td>2</td>\n",
       "      <td>1</td>\n",
       "      <td>1</td>\n",
       "      <td>1</td>\n",
       "      <td>1</td>\n",
       "      <td>1</td>\n",
       "      <td>99</td>\n",
       "      <td>...</td>\n",
       "      <td>2</td>\n",
       "      <td>2</td>\n",
       "      <td>1</td>\n",
       "      <td>1</td>\n",
       "      <td>2</td>\n",
       "      <td>2</td>\n",
       "      <td>792.521931</td>\n",
       "      <td>40027</td>\n",
       "      <td>1</td>\n",
       "      <td>0</td>\n",
       "    </tr>\n",
       "    <tr>\n",
       "      <th>4</th>\n",
       "      <td>75235143</td>\n",
       "      <td>1</td>\n",
       "      <td>0</td>\n",
       "      <td>6</td>\n",
       "      <td>1</td>\n",
       "      <td>4</td>\n",
       "      <td>1</td>\n",
       "      <td>1</td>\n",
       "      <td>1</td>\n",
       "      <td>99</td>\n",
       "      <td>...</td>\n",
       "      <td>2</td>\n",
       "      <td>2</td>\n",
       "      <td>2</td>\n",
       "      <td>2</td>\n",
       "      <td>2</td>\n",
       "      <td>2</td>\n",
       "      <td>1518.118526</td>\n",
       "      <td>40001</td>\n",
       "      <td>2</td>\n",
       "      <td>0</td>\n",
       "    </tr>\n",
       "  </tbody>\n",
       "</table>\n",
       "<p>5 rows × 72 columns</p>\n",
       "</div>"
      ],
      "text/plain": [
       "      PERID  IFATHER  NRCH17_2  IRHHSIZ2  IIHHSIZ2  IRKI17_2  IIKI17_2  \\\n",
       "0  25095143        4         2         4         1         3         1   \n",
       "1  13005143        4         1         3         1         2         1   \n",
       "2  67415143        4         1         2         1         2         1   \n",
       "3  70925143        4         0         2         1         1         1   \n",
       "4  75235143        1         0         6         1         4         1   \n",
       "\n",
       "   IRHH65_2  IIHH65_2  PRXRETRY    ...     TOOLONG  TROUBUND  PDEN10  COUTYP2  \\\n",
       "0         1         1        99    ...           1         2       1        1   \n",
       "1         1         1        99    ...           2         2       2        3   \n",
       "2         1         1        99    ...           2         2       2        3   \n",
       "3         1         1        99    ...           2         2       1        1   \n",
       "4         1         1        99    ...           2         2       2        2   \n",
       "\n",
       "   MAIIN102  AIIND102     ANALWT_C  VESTR  VEREP  Criminal  \n",
       "0         2         2  3884.805998  40026      1         0  \n",
       "1         2         2  1627.108106  40015      2         1  \n",
       "2         2         2  4344.957980  40024      1         0  \n",
       "3         2         2   792.521931  40027      1         0  \n",
       "4         2         2  1518.118526  40001      2         0  \n",
       "\n",
       "[5 rows x 72 columns]"
      ]
     },
     "execution_count": 6,
     "metadata": {},
     "output_type": "execute_result"
    }
   ],
   "source": [
    "train.head()"
   ]
  },
  {
   "cell_type": "code",
   "execution_count": 7,
   "metadata": {},
   "outputs": [
    {
     "data": {
      "text/html": [
       "<div>\n",
       "<style scoped>\n",
       "    .dataframe tbody tr th:only-of-type {\n",
       "        vertical-align: middle;\n",
       "    }\n",
       "\n",
       "    .dataframe tbody tr th {\n",
       "        vertical-align: top;\n",
       "    }\n",
       "\n",
       "    .dataframe thead th {\n",
       "        text-align: right;\n",
       "    }\n",
       "</style>\n",
       "<table border=\"1\" class=\"dataframe\">\n",
       "  <thead>\n",
       "    <tr style=\"text-align: right;\">\n",
       "      <th></th>\n",
       "      <th>PERID</th>\n",
       "      <th>IFATHER</th>\n",
       "      <th>NRCH17_2</th>\n",
       "      <th>IRHHSIZ2</th>\n",
       "      <th>IIHHSIZ2</th>\n",
       "      <th>IRKI17_2</th>\n",
       "      <th>IIKI17_2</th>\n",
       "      <th>IRHH65_2</th>\n",
       "      <th>IIHH65_2</th>\n",
       "      <th>PRXRETRY</th>\n",
       "      <th>...</th>\n",
       "      <th>TOOLONG</th>\n",
       "      <th>TROUBUND</th>\n",
       "      <th>PDEN10</th>\n",
       "      <th>COUTYP2</th>\n",
       "      <th>MAIIN102</th>\n",
       "      <th>AIIND102</th>\n",
       "      <th>ANALWT_C</th>\n",
       "      <th>VESTR</th>\n",
       "      <th>VEREP</th>\n",
       "      <th>Criminal</th>\n",
       "    </tr>\n",
       "  </thead>\n",
       "  <tbody>\n",
       "    <tr>\n",
       "      <th>0</th>\n",
       "      <td>False</td>\n",
       "      <td>False</td>\n",
       "      <td>False</td>\n",
       "      <td>False</td>\n",
       "      <td>False</td>\n",
       "      <td>False</td>\n",
       "      <td>False</td>\n",
       "      <td>False</td>\n",
       "      <td>False</td>\n",
       "      <td>False</td>\n",
       "      <td>...</td>\n",
       "      <td>False</td>\n",
       "      <td>False</td>\n",
       "      <td>False</td>\n",
       "      <td>False</td>\n",
       "      <td>False</td>\n",
       "      <td>False</td>\n",
       "      <td>False</td>\n",
       "      <td>False</td>\n",
       "      <td>False</td>\n",
       "      <td>False</td>\n",
       "    </tr>\n",
       "    <tr>\n",
       "      <th>1</th>\n",
       "      <td>False</td>\n",
       "      <td>False</td>\n",
       "      <td>False</td>\n",
       "      <td>False</td>\n",
       "      <td>False</td>\n",
       "      <td>False</td>\n",
       "      <td>False</td>\n",
       "      <td>False</td>\n",
       "      <td>False</td>\n",
       "      <td>False</td>\n",
       "      <td>...</td>\n",
       "      <td>False</td>\n",
       "      <td>False</td>\n",
       "      <td>False</td>\n",
       "      <td>False</td>\n",
       "      <td>False</td>\n",
       "      <td>False</td>\n",
       "      <td>False</td>\n",
       "      <td>False</td>\n",
       "      <td>False</td>\n",
       "      <td>False</td>\n",
       "    </tr>\n",
       "    <tr>\n",
       "      <th>2</th>\n",
       "      <td>False</td>\n",
       "      <td>False</td>\n",
       "      <td>False</td>\n",
       "      <td>False</td>\n",
       "      <td>False</td>\n",
       "      <td>False</td>\n",
       "      <td>False</td>\n",
       "      <td>False</td>\n",
       "      <td>False</td>\n",
       "      <td>False</td>\n",
       "      <td>...</td>\n",
       "      <td>False</td>\n",
       "      <td>False</td>\n",
       "      <td>False</td>\n",
       "      <td>False</td>\n",
       "      <td>False</td>\n",
       "      <td>False</td>\n",
       "      <td>False</td>\n",
       "      <td>False</td>\n",
       "      <td>False</td>\n",
       "      <td>False</td>\n",
       "    </tr>\n",
       "    <tr>\n",
       "      <th>3</th>\n",
       "      <td>False</td>\n",
       "      <td>False</td>\n",
       "      <td>False</td>\n",
       "      <td>False</td>\n",
       "      <td>False</td>\n",
       "      <td>False</td>\n",
       "      <td>False</td>\n",
       "      <td>False</td>\n",
       "      <td>False</td>\n",
       "      <td>False</td>\n",
       "      <td>...</td>\n",
       "      <td>False</td>\n",
       "      <td>False</td>\n",
       "      <td>False</td>\n",
       "      <td>False</td>\n",
       "      <td>False</td>\n",
       "      <td>False</td>\n",
       "      <td>False</td>\n",
       "      <td>False</td>\n",
       "      <td>False</td>\n",
       "      <td>False</td>\n",
       "    </tr>\n",
       "    <tr>\n",
       "      <th>4</th>\n",
       "      <td>False</td>\n",
       "      <td>False</td>\n",
       "      <td>False</td>\n",
       "      <td>False</td>\n",
       "      <td>False</td>\n",
       "      <td>False</td>\n",
       "      <td>False</td>\n",
       "      <td>False</td>\n",
       "      <td>False</td>\n",
       "      <td>False</td>\n",
       "      <td>...</td>\n",
       "      <td>False</td>\n",
       "      <td>False</td>\n",
       "      <td>False</td>\n",
       "      <td>False</td>\n",
       "      <td>False</td>\n",
       "      <td>False</td>\n",
       "      <td>False</td>\n",
       "      <td>False</td>\n",
       "      <td>False</td>\n",
       "      <td>False</td>\n",
       "    </tr>\n",
       "  </tbody>\n",
       "</table>\n",
       "<p>5 rows × 72 columns</p>\n",
       "</div>"
      ],
      "text/plain": [
       "   PERID  IFATHER  NRCH17_2  IRHHSIZ2  IIHHSIZ2  IRKI17_2  IIKI17_2  IRHH65_2  \\\n",
       "0  False    False     False     False     False     False     False     False   \n",
       "1  False    False     False     False     False     False     False     False   \n",
       "2  False    False     False     False     False     False     False     False   \n",
       "3  False    False     False     False     False     False     False     False   \n",
       "4  False    False     False     False     False     False     False     False   \n",
       "\n",
       "   IIHH65_2  PRXRETRY    ...     TOOLONG  TROUBUND  PDEN10  COUTYP2  MAIIN102  \\\n",
       "0     False     False    ...       False     False   False    False     False   \n",
       "1     False     False    ...       False     False   False    False     False   \n",
       "2     False     False    ...       False     False   False    False     False   \n",
       "3     False     False    ...       False     False   False    False     False   \n",
       "4     False     False    ...       False     False   False    False     False   \n",
       "\n",
       "   AIIND102  ANALWT_C  VESTR  VEREP  Criminal  \n",
       "0     False     False  False  False     False  \n",
       "1     False     False  False  False     False  \n",
       "2     False     False  False  False     False  \n",
       "3     False     False  False  False     False  \n",
       "4     False     False  False  False     False  \n",
       "\n",
       "[5 rows x 72 columns]"
      ]
     },
     "execution_count": 7,
     "metadata": {},
     "output_type": "execute_result"
    }
   ],
   "source": [
    "# Regardons s'il y a données manquantes dans notre jeu donnés \n",
    "pd.isnull(train).head()"
   ]
  },
  {
   "cell_type": "code",
   "execution_count": 8,
   "metadata": {},
   "outputs": [
    {
     "data": {
      "text/plain": [
       "PERID       0\n",
       "IFATHER     0\n",
       "NRCH17_2    0\n",
       "IRHHSIZ2    0\n",
       "IIHHSIZ2    0\n",
       "dtype: int64"
      ]
     },
     "execution_count": 8,
     "metadata": {},
     "output_type": "execute_result"
    }
   ],
   "source": [
    "train.isnull().sum().head()"
   ]
  },
  {
   "cell_type": "markdown",
   "metadata": {},
   "source": [
    "Nous remarquons qu'il y a pas de donner `missing values` dans notre jeu de données. Et pourtant oui nous allons voir dans la suite qu'il contient belle et bien des `missing values` puisqu'il contient des valeurs `-1` comme nous le montre le résumé ci-dessous de notre jeu de données `train`.   "
   ]
  },
  {
   "cell_type": "code",
   "execution_count": 9,
   "metadata": {},
   "outputs": [
    {
     "name": "stdout",
     "output_type": "stream",
     "text": [
      "              PERID       IFATHER      NRCH17_2      IRHHSIZ2      IIHHSIZ2  \\\n",
      "count  4.571800e+04  45718.000000  45718.000000  45718.000000  45718.000000   \n",
      "mean   5.445446e+07      3.355549      0.476486      3.426375      1.001706   \n",
      "std    2.553911e+07      1.176651      0.888472      1.427420      0.061314   \n",
      "min    1.000222e+07     -1.000000     -1.000000     -1.000000     -1.000000   \n",
      "25%    3.233189e+07      4.000000      0.000000      2.000000      1.000000   \n",
      "\n",
      "           IRKI17_2      IIKI17_2      IRHH65_2      IIHH65_2      PRXRETRY  \\\n",
      "count  45718.000000  45718.000000  45718.000000  45718.000000  45718.000000   \n",
      "mean       2.084124      1.007437      1.162606      1.011024     97.394943   \n",
      "std        1.102988      0.123162      0.469029      0.146444     12.355156   \n",
      "min       -1.000000     -1.000000     -1.000000     -1.000000     -1.000000   \n",
      "25%        1.000000      1.000000      1.000000      1.000000     99.000000   \n",
      "\n",
      "           ...            TOOLONG      TROUBUND        PDEN10       COUTYP2  \\\n",
      "count      ...       45718.000000  45718.000000  45718.000000  45718.000000   \n",
      "mean       ...           2.219410      2.234940      1.646135      1.764666   \n",
      "std        ...           5.295784      5.293651      0.618403      0.771411   \n",
      "min        ...          -1.000000     -1.000000     -1.000000     -1.000000   \n",
      "25%        ...           2.000000      2.000000      1.000000      1.000000   \n",
      "\n",
      "           MAIIN102      AIIND102      ANALWT_C         VESTR         VEREP  \\\n",
      "count  45718.000000  45718.000000  45718.000000  45718.000000  45718.000000   \n",
      "mean       1.978936      1.978739   4692.661179  40023.739118      1.493854   \n",
      "std        0.144510      0.145161   5724.659486    265.140430      0.500230   \n",
      "min       -1.000000     -1.000000     -1.000000     -1.000000     -1.000000   \n",
      "25%        2.000000      2.000000   1252.396472  40013.000000      1.000000   \n",
      "\n",
      "           Criminal  \n",
      "count  45718.000000  \n",
      "mean       0.069447  \n",
      "std        0.254216  \n",
      "min        0.000000  \n",
      "25%        0.000000  \n",
      "\n",
      "[5 rows x 72 columns]\n"
     ]
    }
   ],
   "source": [
    "# le résumé des données\n",
    "print(train.describe(include='all').head())"
   ]
  },
  {
   "cell_type": "code",
   "execution_count": 10,
   "metadata": {},
   "outputs": [
    {
     "data": {
      "text/plain": [
       "PERID          int64\n",
       "IFATHER        int64\n",
       "NRCH17_2       int64\n",
       "IRHHSIZ2       int64\n",
       "IIHHSIZ2       int64\n",
       "IRKI17_2       int64\n",
       "IIKI17_2       int64\n",
       "IRHH65_2       int64\n",
       "IIHH65_2       int64\n",
       "PRXRETRY       int64\n",
       "PRXYDATA       int64\n",
       "MEDICARE       int64\n",
       "CAIDCHIP       int64\n",
       "CHAMPUS        int64\n",
       "PRVHLTIN       int64\n",
       "GRPHLTIN       int64\n",
       "HLTINNOS       int64\n",
       "HLCNOTYR       int64\n",
       "HLCNOTMO       int64\n",
       "HLCLAST        int64\n",
       "HLLOSRSN       int64\n",
       "HLNVCOST       int64\n",
       "HLNVOFFR       int64\n",
       "HLNVREF        int64\n",
       "HLNVNEED       int64\n",
       "HLNVSOR        int64\n",
       "IRMCDCHP       int64\n",
       "IIMCDCHP       int64\n",
       "IRMEDICR       int64\n",
       "IIMEDICR       int64\n",
       "              ...   \n",
       "CELLNOTCL      int64\n",
       "CELLWRKNG      int64\n",
       "IRFAMSOC       int64\n",
       "IIFAMSOC       int64\n",
       "IRFAMSSI       int64\n",
       "IIFAMSSI       int64\n",
       "IRFSTAMP       int64\n",
       "IIFSTAMP       int64\n",
       "IRFAMPMT       int64\n",
       "IIFAMPMT       int64\n",
       "IRFAMSVC       int64\n",
       "IIFAMSVC       int64\n",
       "IRWELMOS       int64\n",
       "IIWELMOS       int64\n",
       "IRPINC3        int64\n",
       "IRFAMIN3       int64\n",
       "IIPINC3        int64\n",
       "IIFAMIN3       int64\n",
       "GOVTPROG       int64\n",
       "POVERTY3       int64\n",
       "TOOLONG        int64\n",
       "TROUBUND       int64\n",
       "PDEN10         int64\n",
       "COUTYP2        int64\n",
       "MAIIN102       int64\n",
       "AIIND102       int64\n",
       "ANALWT_C     float64\n",
       "VESTR          int64\n",
       "VEREP          int64\n",
       "Criminal       int64\n",
       "Length: 72, dtype: object"
      ]
     },
     "execution_count": 10,
     "metadata": {},
     "output_type": "execute_result"
    }
   ],
   "source": [
    "train.dtypes"
   ]
  },
  {
   "cell_type": "code",
   "execution_count": 11,
   "metadata": {},
   "outputs": [
    {
     "data": {
      "text/html": [
       "<div>\n",
       "<style scoped>\n",
       "    .dataframe tbody tr th:only-of-type {\n",
       "        vertical-align: middle;\n",
       "    }\n",
       "\n",
       "    .dataframe tbody tr th {\n",
       "        vertical-align: top;\n",
       "    }\n",
       "\n",
       "    .dataframe thead th {\n",
       "        text-align: right;\n",
       "    }\n",
       "</style>\n",
       "<table border=\"1\" class=\"dataframe\">\n",
       "  <thead>\n",
       "    <tr style=\"text-align: right;\">\n",
       "      <th></th>\n",
       "      <th>PERID</th>\n",
       "      <th>IFATHER</th>\n",
       "      <th>NRCH17_2</th>\n",
       "      <th>IRHHSIZ2</th>\n",
       "      <th>IIHHSIZ2</th>\n",
       "      <th>IRKI17_2</th>\n",
       "      <th>IIKI17_2</th>\n",
       "      <th>IRHH65_2</th>\n",
       "      <th>IIHH65_2</th>\n",
       "      <th>PRXRETRY</th>\n",
       "      <th>...</th>\n",
       "      <th>TOOLONG</th>\n",
       "      <th>TROUBUND</th>\n",
       "      <th>PDEN10</th>\n",
       "      <th>COUTYP2</th>\n",
       "      <th>MAIIN102</th>\n",
       "      <th>AIIND102</th>\n",
       "      <th>ANALWT_C</th>\n",
       "      <th>VESTR</th>\n",
       "      <th>VEREP</th>\n",
       "      <th>Criminal</th>\n",
       "    </tr>\n",
       "  </thead>\n",
       "  <tbody>\n",
       "    <tr>\n",
       "      <th>0</th>\n",
       "      <td>25095143</td>\n",
       "      <td>4</td>\n",
       "      <td>2</td>\n",
       "      <td>4</td>\n",
       "      <td>1</td>\n",
       "      <td>3</td>\n",
       "      <td>1</td>\n",
       "      <td>1</td>\n",
       "      <td>1</td>\n",
       "      <td>99</td>\n",
       "      <td>...</td>\n",
       "      <td>1</td>\n",
       "      <td>2</td>\n",
       "      <td>1</td>\n",
       "      <td>1</td>\n",
       "      <td>2</td>\n",
       "      <td>2</td>\n",
       "      <td>3884.805998</td>\n",
       "      <td>40026</td>\n",
       "      <td>1</td>\n",
       "      <td>0</td>\n",
       "    </tr>\n",
       "    <tr>\n",
       "      <th>1</th>\n",
       "      <td>13005143</td>\n",
       "      <td>4</td>\n",
       "      <td>1</td>\n",
       "      <td>3</td>\n",
       "      <td>1</td>\n",
       "      <td>2</td>\n",
       "      <td>1</td>\n",
       "      <td>1</td>\n",
       "      <td>1</td>\n",
       "      <td>99</td>\n",
       "      <td>...</td>\n",
       "      <td>2</td>\n",
       "      <td>2</td>\n",
       "      <td>2</td>\n",
       "      <td>3</td>\n",
       "      <td>2</td>\n",
       "      <td>2</td>\n",
       "      <td>1627.108106</td>\n",
       "      <td>40015</td>\n",
       "      <td>2</td>\n",
       "      <td>1</td>\n",
       "    </tr>\n",
       "    <tr>\n",
       "      <th>2</th>\n",
       "      <td>67415143</td>\n",
       "      <td>4</td>\n",
       "      <td>1</td>\n",
       "      <td>2</td>\n",
       "      <td>1</td>\n",
       "      <td>2</td>\n",
       "      <td>1</td>\n",
       "      <td>1</td>\n",
       "      <td>1</td>\n",
       "      <td>99</td>\n",
       "      <td>...</td>\n",
       "      <td>2</td>\n",
       "      <td>2</td>\n",
       "      <td>2</td>\n",
       "      <td>3</td>\n",
       "      <td>2</td>\n",
       "      <td>2</td>\n",
       "      <td>4344.957980</td>\n",
       "      <td>40024</td>\n",
       "      <td>1</td>\n",
       "      <td>0</td>\n",
       "    </tr>\n",
       "    <tr>\n",
       "      <th>3</th>\n",
       "      <td>70925143</td>\n",
       "      <td>4</td>\n",
       "      <td>0</td>\n",
       "      <td>2</td>\n",
       "      <td>1</td>\n",
       "      <td>1</td>\n",
       "      <td>1</td>\n",
       "      <td>1</td>\n",
       "      <td>1</td>\n",
       "      <td>99</td>\n",
       "      <td>...</td>\n",
       "      <td>2</td>\n",
       "      <td>2</td>\n",
       "      <td>1</td>\n",
       "      <td>1</td>\n",
       "      <td>2</td>\n",
       "      <td>2</td>\n",
       "      <td>792.521931</td>\n",
       "      <td>40027</td>\n",
       "      <td>1</td>\n",
       "      <td>0</td>\n",
       "    </tr>\n",
       "  </tbody>\n",
       "</table>\n",
       "<p>4 rows × 72 columns</p>\n",
       "</div>"
      ],
      "text/plain": [
       "      PERID  IFATHER  NRCH17_2  IRHHSIZ2  IIHHSIZ2  IRKI17_2  IIKI17_2  \\\n",
       "0  25095143        4         2         4         1         3         1   \n",
       "1  13005143        4         1         3         1         2         1   \n",
       "2  67415143        4         1         2         1         2         1   \n",
       "3  70925143        4         0         2         1         1         1   \n",
       "\n",
       "   IRHH65_2  IIHH65_2  PRXRETRY    ...     TOOLONG  TROUBUND  PDEN10  COUTYP2  \\\n",
       "0         1         1        99    ...           1         2       1        1   \n",
       "1         1         1        99    ...           2         2       2        3   \n",
       "2         1         1        99    ...           2         2       2        3   \n",
       "3         1         1        99    ...           2         2       1        1   \n",
       "\n",
       "   MAIIN102  AIIND102     ANALWT_C  VESTR  VEREP  Criminal  \n",
       "0         2         2  3884.805998  40026      1         0  \n",
       "1         2         2  1627.108106  40015      2         1  \n",
       "2         2         2  4344.957980  40024      1         0  \n",
       "3         2         2   792.521931  40027      1         0  \n",
       "\n",
       "[4 rows x 72 columns]"
      ]
     },
     "execution_count": 11,
     "metadata": {},
     "output_type": "execute_result"
    }
   ],
   "source": [
    "train.head(4)"
   ]
  },
  {
   "cell_type": "markdown",
   "metadata": {},
   "source": [
    "### Combien de criminels avons nous dans notre jeu de données ?"
   ]
  },
  {
   "cell_type": "code",
   "execution_count": 12,
   "metadata": {},
   "outputs": [
    {
     "data": {
      "image/png": "[encoded data removed]",
      "text/plain": [
       "<matplotlib.figure.Figure at 0x277d1d37668>"
      ]
     },
     "metadata": {},
     "output_type": "display_data"
    }
   ],
   "source": [
    "f,ax=plt.subplots(1,2,figsize=(15,8))\n",
    "train['Criminal'].value_counts().plot.pie(explode=[0,0.1],autopct='%1.1f%%',ax=ax[0],shadow=True)\n",
    "ax[0].set_title('Criminal')\n",
    "ax[0].set_ylabel('')\n",
    "sns.countplot('Criminal',data=train,ax=ax[1])\n",
    "ax[1].set_title('Criminal')\n",
    "plt.show()"
   ]
  },
  {
   "cell_type": "markdown",
   "metadata": {},
   "source": [
    "Tant mieux qu'on pas beaucoup de criminels dans notre jeu de données d'entrainement soit 6,9 %. \n",
    "\n",
    "\n",
    "\n"
   ]
  },
  {
   "cell_type": "markdown",
   "metadata": {},
   "source": [
    "## Statistique descriptive de certaines variables "
   ]
  },
  {
   "cell_type": "markdown",
   "metadata": {},
   "source": [
    "\n",
    "\n",
    "\n",
    "\n",
    "\n"
   ]
  },
  {
   "cell_type": "markdown",
   "metadata": {},
   "source": [
    "Faisons une petite annalyse de certaines variables suivant les classe d'âge des individus."
   ]
  },
  {
   "cell_type": "markdown",
   "metadata": {},
   "source": [
    "###   a) cas des parents dans les maisons "
   ]
  },
  {
   "cell_type": "code",
   "execution_count": 13,
   "metadata": {},
   "outputs": [
    {
     "data": {
      "text/html": [
       "<style  type=\"text/css\" >\n",
       "    #T_da35eee2_29d8_11e8_b74d_e4b3185ce981row0_col0 {\n",
       "            background-color:  #666666;\n",
       "        }    #T_da35eee2_29d8_11e8_b74d_e4b3185ce981row0_col1 {\n",
       "            background-color:  #666666;\n",
       "        }    #T_da35eee2_29d8_11e8_b74d_e4b3185ce981row0_col2 {\n",
       "            background-color:  #666666;\n",
       "        }    #T_da35eee2_29d8_11e8_b74d_e4b3185ce981row1_col0 {\n",
       "            background-color:  #bf5b17;\n",
       "        }    #T_da35eee2_29d8_11e8_b74d_e4b3185ce981row1_col1 {\n",
       "            background-color:  #bf5b17;\n",
       "        }    #T_da35eee2_29d8_11e8_b74d_e4b3185ce981row1_col2 {\n",
       "            background-color:  #bf5b17;\n",
       "        }    #T_da35eee2_29d8_11e8_b74d_e4b3185ce981row2_col0 {\n",
       "            background-color:  #666666;\n",
       "        }    #T_da35eee2_29d8_11e8_b74d_e4b3185ce981row2_col1 {\n",
       "            background-color:  #bf5b17;\n",
       "        }    #T_da35eee2_29d8_11e8_b74d_e4b3185ce981row2_col2 {\n",
       "            background-color:  #666666;\n",
       "        }    #T_da35eee2_29d8_11e8_b74d_e4b3185ce981row3_col0 {\n",
       "            background-color:  #666666;\n",
       "        }    #T_da35eee2_29d8_11e8_b74d_e4b3185ce981row3_col1 {\n",
       "            background-color:  #666666;\n",
       "        }    #T_da35eee2_29d8_11e8_b74d_e4b3185ce981row3_col2 {\n",
       "            background-color:  #666666;\n",
       "        }    #T_da35eee2_29d8_11e8_b74d_e4b3185ce981row4_col0 {\n",
       "            background-color:  #beaed4;\n",
       "        }    #T_da35eee2_29d8_11e8_b74d_e4b3185ce981row4_col1 {\n",
       "            background-color:  #fdc086;\n",
       "        }    #T_da35eee2_29d8_11e8_b74d_e4b3185ce981row4_col2 {\n",
       "            background-color:  #beaed4;\n",
       "        }    #T_da35eee2_29d8_11e8_b74d_e4b3185ce981row5_col0 {\n",
       "            background-color:  #7fc97f;\n",
       "        }    #T_da35eee2_29d8_11e8_b74d_e4b3185ce981row5_col1 {\n",
       "            background-color:  #7fc97f;\n",
       "        }    #T_da35eee2_29d8_11e8_b74d_e4b3185ce981row5_col2 {\n",
       "            background-color:  #7fc97f;\n",
       "        }</style>  \n",
       "<table id=\"T_da35eee2_29d8_11e8_b74d_e4b3185ce981\" > \n",
       "<thead>    <tr> \n",
       "        <th class=\"index_name level0\" >Criminal</th> \n",
       "        <th class=\"col_heading level0 col0\" >0</th> \n",
       "        <th class=\"col_heading level0 col1\" >1</th> \n",
       "        <th class=\"col_heading level0 col2\" >All</th> \n",
       "    </tr>    <tr> \n",
       "        <th class=\"index_name level0\" >IFATHER</th> \n",
       "        <th class=\"blank\" ></th> \n",
       "        <th class=\"blank\" ></th> \n",
       "        <th class=\"blank\" ></th> \n",
       "    </tr></thead> \n",
       "<tbody>    <tr> \n",
       "        <th id=\"T_da35eee2_29d8_11e8_b74d_e4b3185ce981level0_row0\" class=\"row_heading level0 row0\" >-1</th> \n",
       "        <td id=\"T_da35eee2_29d8_11e8_b74d_e4b3185ce981row0_col0\" class=\"data row0 col0\" >2</td> \n",
       "        <td id=\"T_da35eee2_29d8_11e8_b74d_e4b3185ce981row0_col1\" class=\"data row0 col1\" >0</td> \n",
       "        <td id=\"T_da35eee2_29d8_11e8_b74d_e4b3185ce981row0_col2\" class=\"data row0 col2\" >2</td> \n",
       "    </tr>    <tr> \n",
       "        <th id=\"T_da35eee2_29d8_11e8_b74d_e4b3185ce981level0_row1\" class=\"row_heading level0 row1\" >1</th> \n",
       "        <td id=\"T_da35eee2_29d8_11e8_b74d_e4b3185ce981row1_col0\" class=\"data row1 col0\" >7168</td> \n",
       "        <td id=\"T_da35eee2_29d8_11e8_b74d_e4b3185ce981row1_col1\" class=\"data row1 col1\" >612</td> \n",
       "        <td id=\"T_da35eee2_29d8_11e8_b74d_e4b3185ce981row1_col2\" class=\"data row1 col2\" >7780</td> \n",
       "    </tr>    <tr> \n",
       "        <th id=\"T_da35eee2_29d8_11e8_b74d_e4b3185ce981level0_row2\" class=\"row_heading level0 row2\" >2</th> \n",
       "        <td id=\"T_da35eee2_29d8_11e8_b74d_e4b3185ce981row2_col0\" class=\"data row2 col0\" >2605</td> \n",
       "        <td id=\"T_da35eee2_29d8_11e8_b74d_e4b3185ce981row2_col1\" class=\"data row2 col1\" >445</td> \n",
       "        <td id=\"T_da35eee2_29d8_11e8_b74d_e4b3185ce981row2_col2\" class=\"data row2 col2\" >3050</td> \n",
       "    </tr>    <tr> \n",
       "        <th id=\"T_da35eee2_29d8_11e8_b74d_e4b3185ce981level0_row3\" class=\"row_heading level0 row3\" >3</th> \n",
       "        <td id=\"T_da35eee2_29d8_11e8_b74d_e4b3185ce981row3_col0\" class=\"data row3 col0\" >10</td> \n",
       "        <td id=\"T_da35eee2_29d8_11e8_b74d_e4b3185ce981row3_col1\" class=\"data row3 col1\" >3</td> \n",
       "        <td id=\"T_da35eee2_29d8_11e8_b74d_e4b3185ce981row3_col2\" class=\"data row3 col2\" >13</td> \n",
       "    </tr>    <tr> \n",
       "        <th id=\"T_da35eee2_29d8_11e8_b74d_e4b3185ce981level0_row4\" class=\"row_heading level0 row4\" >4</th> \n",
       "        <td id=\"T_da35eee2_29d8_11e8_b74d_e4b3185ce981row4_col0\" class=\"data row4 col0\" >32758</td> \n",
       "        <td id=\"T_da35eee2_29d8_11e8_b74d_e4b3185ce981row4_col1\" class=\"data row4 col1\" >2115</td> \n",
       "        <td id=\"T_da35eee2_29d8_11e8_b74d_e4b3185ce981row4_col2\" class=\"data row4 col2\" >34873</td> \n",
       "    </tr>    <tr> \n",
       "        <th id=\"T_da35eee2_29d8_11e8_b74d_e4b3185ce981level0_row5\" class=\"row_heading level0 row5\" >All</th> \n",
       "        <td id=\"T_da35eee2_29d8_11e8_b74d_e4b3185ce981row5_col0\" class=\"data row5 col0\" >42543</td> \n",
       "        <td id=\"T_da35eee2_29d8_11e8_b74d_e4b3185ce981row5_col1\" class=\"data row5 col1\" >3175</td> \n",
       "        <td id=\"T_da35eee2_29d8_11e8_b74d_e4b3185ce981row5_col2\" class=\"data row5 col2\" >45718</td> \n",
       "    </tr></tbody> \n",
       "</table> "
      ],
      "text/plain": [
       "<pandas.io.formats.style.Styler at 0x277d1e2bef0>"
      ]
     },
     "execution_count": 13,
     "metadata": {},
     "output_type": "execute_result"
    }
   ],
   "source": [
    "pd.crosstab(train.IFATHER, train.Criminal, margins= True).style.background_gradient(cmap='Accent_r')"
   ]
  },
  {
   "cell_type": "code",
   "execution_count": 14,
   "metadata": {},
   "outputs": [
    {
     "data": {
      "image/png": "[encoded data removed]",
      "text/plain": [
       "<matplotlib.figure.Figure at 0x277d2212eb8>"
      ]
     },
     "metadata": {},
     "output_type": "display_data"
    }
   ],
   "source": [
    "f,ax=plt.subplots(1,2,figsize=(18,8))\n",
    "train['IFATHER'].value_counts().plot.bar(color=['#CD7F32','#FFDF00','#D3D3D3'],ax=ax[0])\n",
    "ax[0].set_title('Nombre de personnes par IFATHER')\n",
    "ax[0].set_ylabel('Count')\n",
    "sns.countplot('IFATHER',hue='Criminal',data=train,ax=ax[1])\n",
    "ax[1].set_title('IFATHER: Criminal vs No_Criminal')\n",
    "plt.show()"
   ]
  },
  {
   "cell_type": "markdown",
   "metadata": {},
   "source": [
    "#### b) cas des enfants dont leur âge est inferieur à 18"
   ]
  },
  {
   "cell_type": "code",
   "execution_count": 15,
   "metadata": {},
   "outputs": [
    {
     "data": {
      "text/html": [
       "<style  type=\"text/css\" >\n",
       "    #T_dbd68042_29d8_11e8_9cd8_e4b3185ce981row0_col0 {\n",
       "            background-color:  #666666;\n",
       "        }    #T_dbd68042_29d8_11e8_9cd8_e4b3185ce981row0_col1 {\n",
       "            background-color:  #666666;\n",
       "        }    #T_dbd68042_29d8_11e8_9cd8_e4b3185ce981row0_col2 {\n",
       "            background-color:  #666666;\n",
       "        }    #T_dbd68042_29d8_11e8_9cd8_e4b3185ce981row1_col0 {\n",
       "            background-color:  #fdc086;\n",
       "        }    #T_dbd68042_29d8_11e8_9cd8_e4b3185ce981row1_col1 {\n",
       "            background-color:  #7fc97f;\n",
       "        }    #T_dbd68042_29d8_11e8_9cd8_e4b3185ce981row1_col2 {\n",
       "            background-color:  #fdc086;\n",
       "        }    #T_dbd68042_29d8_11e8_9cd8_e4b3185ce981row2_col0 {\n",
       "            background-color:  #666666;\n",
       "        }    #T_dbd68042_29d8_11e8_9cd8_e4b3185ce981row2_col1 {\n",
       "            background-color:  #666666;\n",
       "        }    #T_dbd68042_29d8_11e8_9cd8_e4b3185ce981row2_col2 {\n",
       "            background-color:  #666666;\n",
       "        }    #T_dbd68042_29d8_11e8_9cd8_e4b3185ce981row3_col0 {\n",
       "            background-color:  #666666;\n",
       "        }    #T_dbd68042_29d8_11e8_9cd8_e4b3185ce981row3_col1 {\n",
       "            background-color:  #666666;\n",
       "        }    #T_dbd68042_29d8_11e8_9cd8_e4b3185ce981row3_col2 {\n",
       "            background-color:  #666666;\n",
       "        }    #T_dbd68042_29d8_11e8_9cd8_e4b3185ce981row4_col0 {\n",
       "            background-color:  #666666;\n",
       "        }    #T_dbd68042_29d8_11e8_9cd8_e4b3185ce981row4_col1 {\n",
       "            background-color:  #666666;\n",
       "        }    #T_dbd68042_29d8_11e8_9cd8_e4b3185ce981row4_col2 {\n",
       "            background-color:  #666666;\n",
       "        }    #T_dbd68042_29d8_11e8_9cd8_e4b3185ce981row5_col0 {\n",
       "            background-color:  #7fc97f;\n",
       "        }    #T_dbd68042_29d8_11e8_9cd8_e4b3185ce981row5_col1 {\n",
       "            background-color:  #7fc97f;\n",
       "        }    #T_dbd68042_29d8_11e8_9cd8_e4b3185ce981row5_col2 {\n",
       "            background-color:  #7fc97f;\n",
       "        }</style>  \n",
       "<table id=\"T_dbd68042_29d8_11e8_9cd8_e4b3185ce981\" > \n",
       "<thead>    <tr> \n",
       "        <th class=\"index_name level0\" >Criminal</th> \n",
       "        <th class=\"col_heading level0 col0\" >0</th> \n",
       "        <th class=\"col_heading level0 col1\" >1</th> \n",
       "        <th class=\"col_heading level0 col2\" >All</th> \n",
       "    </tr>    <tr> \n",
       "        <th class=\"index_name level0\" >NRCH17_2</th> \n",
       "        <th class=\"blank\" ></th> \n",
       "        <th class=\"blank\" ></th> \n",
       "        <th class=\"blank\" ></th> \n",
       "    </tr></thead> \n",
       "<tbody>    <tr> \n",
       "        <th id=\"T_dbd68042_29d8_11e8_9cd8_e4b3185ce981level0_row0\" class=\"row_heading level0 row0\" >-1</th> \n",
       "        <td id=\"T_dbd68042_29d8_11e8_9cd8_e4b3185ce981row0_col0\" class=\"data row0 col0\" >75</td> \n",
       "        <td id=\"T_dbd68042_29d8_11e8_9cd8_e4b3185ce981row0_col1\" class=\"data row0 col1\" >9</td> \n",
       "        <td id=\"T_dbd68042_29d8_11e8_9cd8_e4b3185ce981row0_col2\" class=\"data row0 col2\" >84</td> \n",
       "    </tr>    <tr> \n",
       "        <th id=\"T_dbd68042_29d8_11e8_9cd8_e4b3185ce981level0_row1\" class=\"row_heading level0 row1\" >0</th> \n",
       "        <td id=\"T_dbd68042_29d8_11e8_9cd8_e4b3185ce981row1_col0\" class=\"data row1 col0\" >30646</td> \n",
       "        <td id=\"T_dbd68042_29d8_11e8_9cd8_e4b3185ce981row1_col1\" class=\"data row1 col1\" >2829</td> \n",
       "        <td id=\"T_dbd68042_29d8_11e8_9cd8_e4b3185ce981row1_col2\" class=\"data row1 col2\" >33475</td> \n",
       "    </tr>    <tr> \n",
       "        <th id=\"T_dbd68042_29d8_11e8_9cd8_e4b3185ce981level0_row2\" class=\"row_heading level0 row2\" >1</th> \n",
       "        <td id=\"T_dbd68042_29d8_11e8_9cd8_e4b3185ce981row2_col0\" class=\"data row2 col0\" >4841</td> \n",
       "        <td id=\"T_dbd68042_29d8_11e8_9cd8_e4b3185ce981row2_col1\" class=\"data row2 col1\" >158</td> \n",
       "        <td id=\"T_dbd68042_29d8_11e8_9cd8_e4b3185ce981row2_col2\" class=\"data row2 col2\" >4999</td> \n",
       "    </tr>    <tr> \n",
       "        <th id=\"T_dbd68042_29d8_11e8_9cd8_e4b3185ce981level0_row3\" class=\"row_heading level0 row3\" >2</th> \n",
       "        <td id=\"T_dbd68042_29d8_11e8_9cd8_e4b3185ce981row3_col0\" class=\"data row3 col0\" >4496</td> \n",
       "        <td id=\"T_dbd68042_29d8_11e8_9cd8_e4b3185ce981row3_col1\" class=\"data row3 col1\" >115</td> \n",
       "        <td id=\"T_dbd68042_29d8_11e8_9cd8_e4b3185ce981row3_col2\" class=\"data row3 col2\" >4611</td> \n",
       "    </tr>    <tr> \n",
       "        <th id=\"T_dbd68042_29d8_11e8_9cd8_e4b3185ce981level0_row4\" class=\"row_heading level0 row4\" >3</th> \n",
       "        <td id=\"T_dbd68042_29d8_11e8_9cd8_e4b3185ce981row4_col0\" class=\"data row4 col0\" >2485</td> \n",
       "        <td id=\"T_dbd68042_29d8_11e8_9cd8_e4b3185ce981row4_col1\" class=\"data row4 col1\" >64</td> \n",
       "        <td id=\"T_dbd68042_29d8_11e8_9cd8_e4b3185ce981row4_col2\" class=\"data row4 col2\" >2549</td> \n",
       "    </tr>    <tr> \n",
       "        <th id=\"T_dbd68042_29d8_11e8_9cd8_e4b3185ce981level0_row5\" class=\"row_heading level0 row5\" >All</th> \n",
       "        <td id=\"T_dbd68042_29d8_11e8_9cd8_e4b3185ce981row5_col0\" class=\"data row5 col0\" >42543</td> \n",
       "        <td id=\"T_dbd68042_29d8_11e8_9cd8_e4b3185ce981row5_col1\" class=\"data row5 col1\" >3175</td> \n",
       "        <td id=\"T_dbd68042_29d8_11e8_9cd8_e4b3185ce981row5_col2\" class=\"data row5 col2\" >45718</td> \n",
       "    </tr></tbody> \n",
       "</table> "
      ],
      "text/plain": [
       "<pandas.io.formats.style.Styler at 0x277cb1a04a8>"
      ]
     },
     "execution_count": 15,
     "metadata": {},
     "output_type": "execute_result"
    }
   ],
   "source": [
    "pd.crosstab(train.NRCH17_2, train.Criminal, margins= True).style.background_gradient(cmap='Accent_r')"
   ]
  },
  {
   "cell_type": "code",
   "execution_count": 16,
   "metadata": {},
   "outputs": [
    {
     "data": {
      "image/png": "[encoded data removed]",
      "text/plain": [
       "<matplotlib.figure.Figure at 0x277d2306f28>"
      ]
     },
     "metadata": {},
     "output_type": "display_data"
    }
   ],
   "source": [
    "f,ax=plt.subplots(1,2,figsize=(18,8))\n",
    "train['NRCH17_2'].value_counts().plot.bar(color=['#CD7F32','#FFDF00','#D3D3D3'],ax=ax[0])\n",
    "ax[0].set_title('Nombre de enfants par NRCH17_2')\n",
    "ax[0].set_ylabel('Count')\n",
    "sns.countplot('NRCH17_2',hue='Criminal',data=train,ax=ax[1])\n",
    "ax[1].set_title('NRCH17_2: Criminal vs No_Criminal')\n",
    "plt.show()"
   ]
  },
  {
   "cell_type": "markdown",
   "metadata": {},
   "source": [
    "#### c) cas des personnes âgés (âge >= 65) "
   ]
  },
  {
   "cell_type": "code",
   "execution_count": 17,
   "metadata": {},
   "outputs": [
    {
     "data": {
      "text/html": [
       "<style  type=\"text/css\" >\n",
       "    #T_dd2a36a8_29d8_11e8_a40e_e4b3185ce981row0_col0 {\n",
       "            background-color:  #666666;\n",
       "        }    #T_dd2a36a8_29d8_11e8_a40e_e4b3185ce981row0_col1 {\n",
       "            background-color:  #666666;\n",
       "        }    #T_dd2a36a8_29d8_11e8_a40e_e4b3185ce981row0_col2 {\n",
       "            background-color:  #666666;\n",
       "        }    #T_dd2a36a8_29d8_11e8_a40e_e4b3185ce981row1_col0 {\n",
       "            background-color:  #7fc97f;\n",
       "        }    #T_dd2a36a8_29d8_11e8_a40e_e4b3185ce981row1_col1 {\n",
       "            background-color:  #fdc086;\n",
       "        }    #T_dd2a36a8_29d8_11e8_a40e_e4b3185ce981row1_col2 {\n",
       "            background-color:  #7fc97f;\n",
       "        }    #T_dd2a36a8_29d8_11e8_a40e_e4b3185ce981row2_col0 {\n",
       "            background-color:  #666666;\n",
       "        }    #T_dd2a36a8_29d8_11e8_a40e_e4b3185ce981row2_col1 {\n",
       "            background-color:  #bf5b17;\n",
       "        }    #T_dd2a36a8_29d8_11e8_a40e_e4b3185ce981row2_col2 {\n",
       "            background-color:  #666666;\n",
       "        }    #T_dd2a36a8_29d8_11e8_a40e_e4b3185ce981row3_col0 {\n",
       "            background-color:  #666666;\n",
       "        }    #T_dd2a36a8_29d8_11e8_a40e_e4b3185ce981row3_col1 {\n",
       "            background-color:  #666666;\n",
       "        }    #T_dd2a36a8_29d8_11e8_a40e_e4b3185ce981row3_col2 {\n",
       "            background-color:  #666666;\n",
       "        }    #T_dd2a36a8_29d8_11e8_a40e_e4b3185ce981row4_col0 {\n",
       "            background-color:  #7fc97f;\n",
       "        }    #T_dd2a36a8_29d8_11e8_a40e_e4b3185ce981row4_col1 {\n",
       "            background-color:  #7fc97f;\n",
       "        }    #T_dd2a36a8_29d8_11e8_a40e_e4b3185ce981row4_col2 {\n",
       "            background-color:  #7fc97f;\n",
       "        }</style>  \n",
       "<table id=\"T_dd2a36a8_29d8_11e8_a40e_e4b3185ce981\" > \n",
       "<thead>    <tr> \n",
       "        <th class=\"index_name level0\" >Criminal</th> \n",
       "        <th class=\"col_heading level0 col0\" >0</th> \n",
       "        <th class=\"col_heading level0 col1\" >1</th> \n",
       "        <th class=\"col_heading level0 col2\" >All</th> \n",
       "    </tr>    <tr> \n",
       "        <th class=\"index_name level0\" >IRHH65_2</th> \n",
       "        <th class=\"blank\" ></th> \n",
       "        <th class=\"blank\" ></th> \n",
       "        <th class=\"blank\" ></th> \n",
       "    </tr></thead> \n",
       "<tbody>    <tr> \n",
       "        <th id=\"T_dd2a36a8_29d8_11e8_a40e_e4b3185ce981level0_row0\" class=\"row_heading level0 row0\" >-1</th> \n",
       "        <td id=\"T_dd2a36a8_29d8_11e8_a40e_e4b3185ce981row0_col0\" class=\"data row0 col0\" >2</td> \n",
       "        <td id=\"T_dd2a36a8_29d8_11e8_a40e_e4b3185ce981row0_col1\" class=\"data row0 col1\" >0</td> \n",
       "        <td id=\"T_dd2a36a8_29d8_11e8_a40e_e4b3185ce981row0_col2\" class=\"data row0 col2\" >2</td> \n",
       "    </tr>    <tr> \n",
       "        <th id=\"T_dd2a36a8_29d8_11e8_a40e_e4b3185ce981level0_row1\" class=\"row_heading level0 row1\" >1</th> \n",
       "        <td id=\"T_dd2a36a8_29d8_11e8_a40e_e4b3185ce981row1_col0\" class=\"data row1 col0\" >37807</td> \n",
       "        <td id=\"T_dd2a36a8_29d8_11e8_a40e_e4b3185ce981row1_col1\" class=\"data row1 col1\" >2381</td> \n",
       "        <td id=\"T_dd2a36a8_29d8_11e8_a40e_e4b3185ce981row1_col2\" class=\"data row1 col2\" >40188</td> \n",
       "    </tr>    <tr> \n",
       "        <th id=\"T_dd2a36a8_29d8_11e8_a40e_e4b3185ce981level0_row2\" class=\"row_heading level0 row2\" >2</th> \n",
       "        <td id=\"T_dd2a36a8_29d8_11e8_a40e_e4b3185ce981row2_col0\" class=\"data row2 col0\" >3160</td> \n",
       "        <td id=\"T_dd2a36a8_29d8_11e8_a40e_e4b3185ce981row2_col1\" class=\"data row2 col1\" >458</td> \n",
       "        <td id=\"T_dd2a36a8_29d8_11e8_a40e_e4b3185ce981row2_col2\" class=\"data row2 col2\" >3618</td> \n",
       "    </tr>    <tr> \n",
       "        <th id=\"T_dd2a36a8_29d8_11e8_a40e_e4b3185ce981level0_row3\" class=\"row_heading level0 row3\" >3</th> \n",
       "        <td id=\"T_dd2a36a8_29d8_11e8_a40e_e4b3185ce981row3_col0\" class=\"data row3 col0\" >1574</td> \n",
       "        <td id=\"T_dd2a36a8_29d8_11e8_a40e_e4b3185ce981row3_col1\" class=\"data row3 col1\" >336</td> \n",
       "        <td id=\"T_dd2a36a8_29d8_11e8_a40e_e4b3185ce981row3_col2\" class=\"data row3 col2\" >1910</td> \n",
       "    </tr>    <tr> \n",
       "        <th id=\"T_dd2a36a8_29d8_11e8_a40e_e4b3185ce981level0_row4\" class=\"row_heading level0 row4\" >All</th> \n",
       "        <td id=\"T_dd2a36a8_29d8_11e8_a40e_e4b3185ce981row4_col0\" class=\"data row4 col0\" >42543</td> \n",
       "        <td id=\"T_dd2a36a8_29d8_11e8_a40e_e4b3185ce981row4_col1\" class=\"data row4 col1\" >3175</td> \n",
       "        <td id=\"T_dd2a36a8_29d8_11e8_a40e_e4b3185ce981row4_col2\" class=\"data row4 col2\" >45718</td> \n",
       "    </tr></tbody> \n",
       "</table> "
      ],
      "text/plain": [
       "<pandas.io.formats.style.Styler at 0x277d219a8d0>"
      ]
     },
     "execution_count": 17,
     "metadata": {},
     "output_type": "execute_result"
    }
   ],
   "source": [
    "pd.crosstab(train.IRHH65_2, train.Criminal, margins= True).style.background_gradient(cmap='Accent_r')"
   ]
  },
  {
   "cell_type": "code",
   "execution_count": 18,
   "metadata": {},
   "outputs": [
    {
     "data": {
      "image/png": "[encoded data removed]",
      "text/plain": [
       "<matplotlib.figure.Figure at 0x277d21460f0>"
      ]
     },
     "metadata": {},
     "output_type": "display_data"
    }
   ],
   "source": [
    "f,ax=plt.subplots(1,2,figsize=(18,8))\n",
    "train['IRHH65_2'].value_counts().plot.bar(color=['#CD7F32','#FFDF00','#D3D3D3'],ax=ax[0])\n",
    "ax[0].set_title('Nombre de par NRCH17_2')\n",
    "ax[0].set_ylabel('Count')\n",
    "sns.countplot('IRHH65_2',hue='Criminal',data=train,ax=ax[1])\n",
    "ax[1].set_title('IRHH65_2: Criminal vs No_Criminal')\n",
    "plt.show()"
   ]
  },
  {
   "cell_type": "code",
   "execution_count": 19,
   "metadata": {},
   "outputs": [],
   "source": [
    "#sns.factorplot(x='Criminal', col='POVERTY3', kind='count', data=train)"
   ]
  },
  {
   "cell_type": "markdown",
   "metadata": {},
   "source": [
    "#### d) cas des personnes pauvres  "
   ]
  },
  {
   "cell_type": "code",
   "execution_count": 20,
   "metadata": {},
   "outputs": [
    {
     "data": {
      "text/html": [
       "<style  type=\"text/css\" >\n",
       "    #T_df3bcc1a_29d8_11e8_bf72_e4b3185ce981row0_col0 {\n",
       "            background-color:  #666666;\n",
       "        }    #T_df3bcc1a_29d8_11e8_bf72_e4b3185ce981row0_col1 {\n",
       "            background-color:  #666666;\n",
       "        }    #T_df3bcc1a_29d8_11e8_bf72_e4b3185ce981row0_col2 {\n",
       "            background-color:  #666666;\n",
       "        }    #T_df3bcc1a_29d8_11e8_bf72_e4b3185ce981row1_col0 {\n",
       "            background-color:  #bf5b17;\n",
       "        }    #T_df3bcc1a_29d8_11e8_bf72_e4b3185ce981row1_col1 {\n",
       "            background-color:  #bf5b17;\n",
       "        }    #T_df3bcc1a_29d8_11e8_bf72_e4b3185ce981row1_col2 {\n",
       "            background-color:  #bf5b17;\n",
       "        }    #T_df3bcc1a_29d8_11e8_bf72_e4b3185ce981row2_col0 {\n",
       "            background-color:  #bf5b17;\n",
       "        }    #T_df3bcc1a_29d8_11e8_bf72_e4b3185ce981row2_col1 {\n",
       "            background-color:  #386cb0;\n",
       "        }    #T_df3bcc1a_29d8_11e8_bf72_e4b3185ce981row2_col2 {\n",
       "            background-color:  #bf5b17;\n",
       "        }    #T_df3bcc1a_29d8_11e8_bf72_e4b3185ce981row3_col0 {\n",
       "            background-color:  #ffff99;\n",
       "        }    #T_df3bcc1a_29d8_11e8_bf72_e4b3185ce981row3_col1 {\n",
       "            background-color:  #bf5b17;\n",
       "        }    #T_df3bcc1a_29d8_11e8_bf72_e4b3185ce981row3_col2 {\n",
       "            background-color:  #ffff99;\n",
       "        }    #T_df3bcc1a_29d8_11e8_bf72_e4b3185ce981row4_col0 {\n",
       "            background-color:  #7fc97f;\n",
       "        }    #T_df3bcc1a_29d8_11e8_bf72_e4b3185ce981row4_col1 {\n",
       "            background-color:  #7fc97f;\n",
       "        }    #T_df3bcc1a_29d8_11e8_bf72_e4b3185ce981row4_col2 {\n",
       "            background-color:  #7fc97f;\n",
       "        }</style>  \n",
       "<table id=\"T_df3bcc1a_29d8_11e8_bf72_e4b3185ce981\" > \n",
       "<thead>    <tr> \n",
       "        <th class=\"index_name level0\" >Criminal</th> \n",
       "        <th class=\"col_heading level0 col0\" >0</th> \n",
       "        <th class=\"col_heading level0 col1\" >1</th> \n",
       "        <th class=\"col_heading level0 col2\" >All</th> \n",
       "    </tr>    <tr> \n",
       "        <th class=\"index_name level0\" >POVERTY3</th> \n",
       "        <th class=\"blank\" ></th> \n",
       "        <th class=\"blank\" ></th> \n",
       "        <th class=\"blank\" ></th> \n",
       "    </tr></thead> \n",
       "<tbody>    <tr> \n",
       "        <th id=\"T_df3bcc1a_29d8_11e8_bf72_e4b3185ce981level0_row0\" class=\"row_heading level0 row0\" >-1</th> \n",
       "        <td id=\"T_df3bcc1a_29d8_11e8_bf72_e4b3185ce981row0_col0\" class=\"data row0 col0\" >237</td> \n",
       "        <td id=\"T_df3bcc1a_29d8_11e8_bf72_e4b3185ce981row0_col1\" class=\"data row0 col1\" >106</td> \n",
       "        <td id=\"T_df3bcc1a_29d8_11e8_bf72_e4b3185ce981row0_col2\" class=\"data row0 col2\" >343</td> \n",
       "    </tr>    <tr> \n",
       "        <th id=\"T_df3bcc1a_29d8_11e8_bf72_e4b3185ce981level0_row1\" class=\"row_heading level0 row1\" >1</th> \n",
       "        <td id=\"T_df3bcc1a_29d8_11e8_bf72_e4b3185ce981row1_col0\" class=\"data row1 col0\" >8489</td> \n",
       "        <td id=\"T_df3bcc1a_29d8_11e8_bf72_e4b3185ce981row1_col1\" class=\"data row1 col1\" >842</td> \n",
       "        <td id=\"T_df3bcc1a_29d8_11e8_bf72_e4b3185ce981row1_col2\" class=\"data row1 col2\" >9331</td> \n",
       "    </tr>    <tr> \n",
       "        <th id=\"T_df3bcc1a_29d8_11e8_bf72_e4b3185ce981level0_row2\" class=\"row_heading level0 row2\" >2</th> \n",
       "        <td id=\"T_df3bcc1a_29d8_11e8_bf72_e4b3185ce981row2_col0\" class=\"data row2 col0\" >8767</td> \n",
       "        <td id=\"T_df3bcc1a_29d8_11e8_bf72_e4b3185ce981row2_col1\" class=\"data row2 col1\" >1458</td> \n",
       "        <td id=\"T_df3bcc1a_29d8_11e8_bf72_e4b3185ce981row2_col2\" class=\"data row2 col2\" >10225</td> \n",
       "    </tr>    <tr> \n",
       "        <th id=\"T_df3bcc1a_29d8_11e8_bf72_e4b3185ce981level0_row3\" class=\"row_heading level0 row3\" >3</th> \n",
       "        <td id=\"T_df3bcc1a_29d8_11e8_bf72_e4b3185ce981row3_col0\" class=\"data row3 col0\" >25050</td> \n",
       "        <td id=\"T_df3bcc1a_29d8_11e8_bf72_e4b3185ce981row3_col1\" class=\"data row3 col1\" >769</td> \n",
       "        <td id=\"T_df3bcc1a_29d8_11e8_bf72_e4b3185ce981row3_col2\" class=\"data row3 col2\" >25819</td> \n",
       "    </tr>    <tr> \n",
       "        <th id=\"T_df3bcc1a_29d8_11e8_bf72_e4b3185ce981level0_row4\" class=\"row_heading level0 row4\" >All</th> \n",
       "        <td id=\"T_df3bcc1a_29d8_11e8_bf72_e4b3185ce981row4_col0\" class=\"data row4 col0\" >42543</td> \n",
       "        <td id=\"T_df3bcc1a_29d8_11e8_bf72_e4b3185ce981row4_col1\" class=\"data row4 col1\" >3175</td> \n",
       "        <td id=\"T_df3bcc1a_29d8_11e8_bf72_e4b3185ce981row4_col2\" class=\"data row4 col2\" >45718</td> \n",
       "    </tr></tbody> \n",
       "</table> "
      ],
      "text/plain": [
       "<pandas.io.formats.style.Styler at 0x277d22e5630>"
      ]
     },
     "execution_count": 20,
     "metadata": {},
     "output_type": "execute_result"
    }
   ],
   "source": [
    "pd.crosstab(train.POVERTY3, train.Criminal, margins= True).style.background_gradient(cmap='Accent_r')"
   ]
  },
  {
   "cell_type": "code",
   "execution_count": 21,
   "metadata": {},
   "outputs": [
    {
     "data": {
      "image/png": "[encoded data removed]",
      "text/plain": [
       "<matplotlib.figure.Figure at 0x277d2106748>"
      ]
     },
     "metadata": {},
     "output_type": "display_data"
    }
   ],
   "source": [
    "f,ax=plt.subplots(1,2,figsize=(18,8))\n",
    "train['POVERTY3'].value_counts().plot.bar(color=['#CD7F32','#FFDF00','#D3D3D3'],ax=ax[0])\n",
    "ax[0].set_title('Nombre de enfants par NRCH17_2')\n",
    "ax[0].set_ylabel('Count')\n",
    "sns.countplot('POVERTY3',hue='Criminal',data=train,ax=ax[1])\n",
    "ax[1].set_title('POVERTY3: Criminal vs No_Criminal')\n",
    "plt.show()"
   ]
  },
  {
   "cell_type": "code",
   "execution_count": 22,
   "metadata": {},
   "outputs": [
    {
     "data": {
      "image/png": "[encoded data removed]",
      "text/plain": [
       "<matplotlib.figure.Figure at 0x277d214e470>"
      ]
     },
     "metadata": {},
     "output_type": "display_data"
    }
   ],
   "source": [
    "sns.factorplot('IFATHER','Criminal',hue='POVERTY3',data=train)\n",
    "plt.show()"
   ]
  },
  {
   "cell_type": "code",
   "execution_count": 27,
   "metadata": {},
   "outputs": [
    {
     "data": {
      "image/png": "[encoded data removed]",
      "text/plain": [
       "<matplotlib.figure.Figure at 0x2756d2d5a20>"
      ]
     },
     "metadata": {},
     "output_type": "display_data"
    }
   ],
   "source": [
    "# Regardons la correlation en 3D sur ce jeu de données\n",
    "\n",
    "sns.set(style=\"white\")\n",
    "\n",
    "\n",
    "# Calcule de la matrice de correlation \n",
    "corr = train.corr()\n",
    "\n",
    "# configuration de la figure de matplotlib\n",
    "f, ax = plt.subplots(figsize=(11, 9))\n",
    "\n",
    "# colormap \n",
    "cmap = sns.diverging_palette(220, 10, as_cmap=True)\n",
    "\n",
    "\n",
    "\n",
    "# Dessin du heatmap avec le masque et le ratio d'aspect correct\n",
    "sns.heatmap(corr, cmap='Set1' , vmax=.3, center=0,\n",
    "            square=True, linewidths=.5, cbar_kws={\"shrink\": .5})\n",
    "\n",
    "plt.show()\n"
   ]
  },
  {
   "cell_type": "code",
   "execution_count": 28,
   "metadata": {},
   "outputs": [
    {
     "data": {
      "text/html": [
       "<div>\n",
       "<style scoped>\n",
       "    .dataframe tbody tr th:only-of-type {\n",
       "        vertical-align: middle;\n",
       "    }\n",
       "\n",
       "    .dataframe tbody tr th {\n",
       "        vertical-align: top;\n",
       "    }\n",
       "\n",
       "    .dataframe thead th {\n",
       "        text-align: right;\n",
       "    }\n",
       "</style>\n",
       "<table border=\"1\" class=\"dataframe\">\n",
       "  <thead>\n",
       "    <tr style=\"text-align: right;\">\n",
       "      <th></th>\n",
       "      <th>PERID</th>\n",
       "      <th>IFATHER</th>\n",
       "      <th>NRCH17_2</th>\n",
       "      <th>IRHHSIZ2</th>\n",
       "      <th>IIHHSIZ2</th>\n",
       "      <th>IRKI17_2</th>\n",
       "      <th>IIKI17_2</th>\n",
       "      <th>IRHH65_2</th>\n",
       "      <th>IIHH65_2</th>\n",
       "      <th>PRXRETRY</th>\n",
       "      <th>...</th>\n",
       "      <th>TOOLONG</th>\n",
       "      <th>TROUBUND</th>\n",
       "      <th>PDEN10</th>\n",
       "      <th>COUTYP2</th>\n",
       "      <th>MAIIN102</th>\n",
       "      <th>AIIND102</th>\n",
       "      <th>ANALWT_C</th>\n",
       "      <th>VESTR</th>\n",
       "      <th>VEREP</th>\n",
       "      <th>Criminal</th>\n",
       "    </tr>\n",
       "  </thead>\n",
       "  <tbody>\n",
       "    <tr>\n",
       "      <th>PERID</th>\n",
       "      <td>1.000000</td>\n",
       "      <td>0.000199</td>\n",
       "      <td>-0.004183</td>\n",
       "      <td>0.004106</td>\n",
       "      <td>-0.003623</td>\n",
       "      <td>-0.001137</td>\n",
       "      <td>-0.004505</td>\n",
       "      <td>-0.001445</td>\n",
       "      <td>-0.004101</td>\n",
       "      <td>-0.010168</td>\n",
       "      <td>...</td>\n",
       "      <td>-0.002201</td>\n",
       "      <td>-0.002608</td>\n",
       "      <td>0.003790</td>\n",
       "      <td>-0.000682</td>\n",
       "      <td>0.003633</td>\n",
       "      <td>0.004055</td>\n",
       "      <td>-0.002664</td>\n",
       "      <td>-0.003162</td>\n",
       "      <td>0.003717</td>\n",
       "      <td>-0.000455</td>\n",
       "    </tr>\n",
       "    <tr>\n",
       "      <th>IFATHER</th>\n",
       "      <td>0.000199</td>\n",
       "      <td>1.000000</td>\n",
       "      <td>0.323702</td>\n",
       "      <td>-0.318736</td>\n",
       "      <td>0.016979</td>\n",
       "      <td>-0.476014</td>\n",
       "      <td>0.013033</td>\n",
       "      <td>0.122347</td>\n",
       "      <td>-0.018843</td>\n",
       "      <td>-0.002325</td>\n",
       "      <td>...</td>\n",
       "      <td>-0.054241</td>\n",
       "      <td>-0.003364</td>\n",
       "      <td>-0.007195</td>\n",
       "      <td>-0.004950</td>\n",
       "      <td>0.006691</td>\n",
       "      <td>0.007711</td>\n",
       "      <td>0.349590</td>\n",
       "      <td>0.004817</td>\n",
       "      <td>0.001345</td>\n",
       "      <td>-0.054509</td>\n",
       "    </tr>\n",
       "    <tr>\n",
       "      <th>NRCH17_2</th>\n",
       "      <td>-0.004183</td>\n",
       "      <td>0.323702</td>\n",
       "      <td>1.000000</td>\n",
       "      <td>0.326668</td>\n",
       "      <td>-0.061858</td>\n",
       "      <td>0.495657</td>\n",
       "      <td>-0.066734</td>\n",
       "      <td>-0.150193</td>\n",
       "      <td>-0.067089</td>\n",
       "      <td>0.071150</td>\n",
       "      <td>...</td>\n",
       "      <td>0.004654</td>\n",
       "      <td>0.009790</td>\n",
       "      <td>0.020022</td>\n",
       "      <td>0.022269</td>\n",
       "      <td>-0.005283</td>\n",
       "      <td>-0.005451</td>\n",
       "      <td>0.085522</td>\n",
       "      <td>0.001767</td>\n",
       "      <td>-0.001506</td>\n",
       "      <td>-0.098475</td>\n",
       "    </tr>\n",
       "    <tr>\n",
       "      <th>IRHHSIZ2</th>\n",
       "      <td>0.004106</td>\n",
       "      <td>-0.318736</td>\n",
       "      <td>0.326668</td>\n",
       "      <td>1.000000</td>\n",
       "      <td>-0.002731</td>\n",
       "      <td>0.759771</td>\n",
       "      <td>0.033229</td>\n",
       "      <td>-0.145559</td>\n",
       "      <td>0.042943</td>\n",
       "      <td>-0.081080</td>\n",
       "      <td>...</td>\n",
       "      <td>0.055409</td>\n",
       "      <td>0.022387</td>\n",
       "      <td>-0.034493</td>\n",
       "      <td>-0.032091</td>\n",
       "      <td>-0.022625</td>\n",
       "      <td>-0.021957</td>\n",
       "      <td>-0.153575</td>\n",
       "      <td>-0.005863</td>\n",
       "      <td>-0.001895</td>\n",
       "      <td>-0.069457</td>\n",
       "    </tr>\n",
       "    <tr>\n",
       "      <th>IIHHSIZ2</th>\n",
       "      <td>-0.003623</td>\n",
       "      <td>0.016979</td>\n",
       "      <td>-0.061858</td>\n",
       "      <td>-0.002731</td>\n",
       "      <td>1.000000</td>\n",
       "      <td>-0.001483</td>\n",
       "      <td>0.496471</td>\n",
       "      <td>0.006889</td>\n",
       "      <td>0.394555</td>\n",
       "      <td>-0.197878</td>\n",
       "      <td>...</td>\n",
       "      <td>0.036269</td>\n",
       "      <td>0.054371</td>\n",
       "      <td>0.003668</td>\n",
       "      <td>0.001274</td>\n",
       "      <td>0.014231</td>\n",
       "      <td>0.014206</td>\n",
       "      <td>0.004817</td>\n",
       "      <td>0.004713</td>\n",
       "      <td>0.003921</td>\n",
       "      <td>0.009238</td>\n",
       "    </tr>\n",
       "  </tbody>\n",
       "</table>\n",
       "<p>5 rows × 72 columns</p>\n",
       "</div>"
      ],
      "text/plain": [
       "             PERID   IFATHER  NRCH17_2  IRHHSIZ2  IIHHSIZ2  IRKI17_2  \\\n",
       "PERID     1.000000  0.000199 -0.004183  0.004106 -0.003623 -0.001137   \n",
       "IFATHER   0.000199  1.000000  0.323702 -0.318736  0.016979 -0.476014   \n",
       "NRCH17_2 -0.004183  0.323702  1.000000  0.326668 -0.061858  0.495657   \n",
       "IRHHSIZ2  0.004106 -0.318736  0.326668  1.000000 -0.002731  0.759771   \n",
       "IIHHSIZ2 -0.003623  0.016979 -0.061858 -0.002731  1.000000 -0.001483   \n",
       "\n",
       "          IIKI17_2  IRHH65_2  IIHH65_2  PRXRETRY    ...      TOOLONG  \\\n",
       "PERID    -0.004505 -0.001445 -0.004101 -0.010168    ...    -0.002201   \n",
       "IFATHER   0.013033  0.122347 -0.018843 -0.002325    ...    -0.054241   \n",
       "NRCH17_2 -0.066734 -0.150193 -0.067089  0.071150    ...     0.004654   \n",
       "IRHHSIZ2  0.033229 -0.145559  0.042943 -0.081080    ...     0.055409   \n",
       "IIHHSIZ2  0.496471  0.006889  0.394555 -0.197878    ...     0.036269   \n",
       "\n",
       "          TROUBUND    PDEN10   COUTYP2  MAIIN102  AIIND102  ANALWT_C  \\\n",
       "PERID    -0.002608  0.003790 -0.000682  0.003633  0.004055 -0.002664   \n",
       "IFATHER  -0.003364 -0.007195 -0.004950  0.006691  0.007711  0.349590   \n",
       "NRCH17_2  0.009790  0.020022  0.022269 -0.005283 -0.005451  0.085522   \n",
       "IRHHSIZ2  0.022387 -0.034493 -0.032091 -0.022625 -0.021957 -0.153575   \n",
       "IIHHSIZ2  0.054371  0.003668  0.001274  0.014231  0.014206  0.004817   \n",
       "\n",
       "             VESTR     VEREP  Criminal  \n",
       "PERID    -0.003162  0.003717 -0.000455  \n",
       "IFATHER   0.004817  0.001345 -0.054509  \n",
       "NRCH17_2  0.001767 -0.001506 -0.098475  \n",
       "IRHHSIZ2 -0.005863 -0.001895 -0.069457  \n",
       "IIHHSIZ2  0.004713  0.003921  0.009238  \n",
       "\n",
       "[5 rows x 72 columns]"
      ]
     },
     "execution_count": 28,
     "metadata": {},
     "output_type": "execute_result"
    }
   ],
   "source": [
    "# Rank correlation\n",
    "train.corr('spearman').head()"
   ]
  },
  {
   "cell_type": "markdown",
   "metadata": {},
   "source": [
    "# 2 Données manquantes \n",
    "\n",
    "Au niveau de la description des données nous avons pas pu avoir d'information si notre jeu de données contient des données manquantes ou pas. Par contre nous remarquons que le jeu de données contient des valeurs `-1` et donc on peut les supposer comme étant des missing values. "
   ]
  },
  {
   "cell_type": "markdown",
   "metadata": {},
   "source": [
    " ####  2.1 Manipulation des données manqantes \n",
    "Nous allons remplacer les valeurs `-1` par `NA` afin de pouvoir faire la manipulation avec les missing values "
   ]
  },
  {
   "cell_type": "code",
   "execution_count": 23,
   "metadata": {},
   "outputs": [
    {
     "data": {
      "text/plain": [
       "PERID        0\n",
       "IFATHER      2\n",
       "NRCH17_2    84\n",
       "IRHHSIZ2     2\n",
       "IIHHSIZ2     2\n",
       "dtype: int64"
      ]
     },
     "execution_count": 23,
     "metadata": {},
     "output_type": "execute_result"
    }
   ],
   "source": [
    "train[ train == -1] = np.nan\n",
    "train.isnull().sum().head(5)"
   ]
  },
  {
   "cell_type": "code",
   "execution_count": 24,
   "metadata": {},
   "outputs": [
    {
     "data": {
      "text/plain": [
       "PERID       0\n",
       "IFATHER     0\n",
       "NRCH17_2    8\n",
       "IRHHSIZ2    0\n",
       "IIHHSIZ2    0\n",
       "dtype: int64"
      ]
     },
     "execution_count": 24,
     "metadata": {},
     "output_type": "execute_result"
    }
   ],
   "source": [
    "test[test == -1] = np.nan\n",
    "test.isnull().sum().head()"
   ]
  },
  {
   "cell_type": "code",
   "execution_count": 25,
   "metadata": {},
   "outputs": [
    {
     "data": {
      "text/plain": [
       "<matplotlib.axes._subplots.AxesSubplot at 0x277d1d37780>"
      ]
     },
     "execution_count": 25,
     "metadata": {},
     "output_type": "execute_result"
    },
    {
     "data": {
      "image/png": "[encoded data removed]",
      "text/plain": [
       "<matplotlib.figure.Figure at 0x277d3419208>"
      ]
     },
     "metadata": {},
     "output_type": "display_data"
    }
   ],
   "source": [
    "k= pd.DataFrame()\n",
    "k['train']= train.isnull().sum()\n",
    "k['test'] = test.isnull().sum()\n",
    "fig,ax = plt.subplots(figsize=(16,5))\n",
    "k.plot(kind='bar',ax=ax)"
   ]
  },
  {
   "cell_type": "code",
   "execution_count": 26,
   "metadata": {},
   "outputs": [
    {
     "data": {
      "text/plain": [
       "<matplotlib.axes._subplots.AxesSubplot at 0x277d31e2160>"
      ]
     },
     "execution_count": 26,
     "metadata": {},
     "output_type": "execute_result"
    },
    {
     "data": {
      "image/png": "[encoded data removed]",
      "text/plain": [
       "<matplotlib.figure.Figure at 0x277ca30ffd0>"
      ]
     },
     "metadata": {},
     "output_type": "display_data"
    }
   ],
   "source": [
    "# plot de la variable avec plus de  valeur -1\n",
    "sns.countplot(x='POVERTY3', data=train)"
   ]
  },
  {
   "cell_type": "code",
   "execution_count": 27,
   "metadata": {},
   "outputs": [
    {
     "data": {
      "text/plain": [
       "<matplotlib.axes._subplots.AxesSubplot at 0x277d2f9ea90>"
      ]
     },
     "execution_count": 27,
     "metadata": {},
     "output_type": "execute_result"
    },
    {
     "data": {
      "image/png": "[encoded data removed]",
      "text/plain": [
       "<matplotlib.figure.Figure at 0x277d3117400>"
      ]
     },
     "metadata": {},
     "output_type": "display_data"
    }
   ],
   "source": [
    "# plot de la variable avec plus de  valeur -1\n",
    "sns.countplot(x='NRCH17_2', data=train)"
   ]
  },
  {
   "cell_type": "markdown",
   "metadata": {},
   "source": [
    "Regardons le pourcentage des données manquantes dans notre jeu de données"
   ]
  },
  {
   "cell_type": "code",
   "execution_count": 28,
   "metadata": {},
   "outputs": [],
   "source": [
    "\n",
    "def describe_missing_values(data):\n",
    "    na_percent = {}\n",
    "    N = data.shape[0]\n",
    "    for column in data:\n",
    "        na_percent[column] = data[column].isnull().sum() * 100 / N\n",
    "\n",
    "    na_percent = dict(filter(lambda x: x[1] != 0, na_percent.items()))\n",
    "    plt.bar(range(len(na_percent)), na_percent.values())\n",
    "    plt.ylabel('Percent')\n",
    "    plt.xticks(range(len(na_percent)), na_percent.keys(), rotation='vertical')\n",
    "    plt.show()"
   ]
  },
  {
   "cell_type": "code",
   "execution_count": 29,
   "metadata": {},
   "outputs": [
    {
     "name": "stdout",
     "output_type": "stream",
     "text": [
      "Missing values for Train dataset\n"
     ]
    },
    {
     "data": {
      "image/png": "[encoded data removed]",
      "text/plain": [
       "<matplotlib.figure.Figure at 0x277d33f3e80>"
      ]
     },
     "metadata": {},
     "output_type": "display_data"
    },
    {
     "name": "stdout",
     "output_type": "stream",
     "text": [
      "Missing values for Test dataset\n"
     ]
    },
    {
     "data": {
      "image/png": "[encoded data removed]",
      "text/plain": [
       "<matplotlib.figure.Figure at 0x277d33f3e48>"
      ]
     },
     "metadata": {},
     "output_type": "display_data"
    }
   ],
   "source": [
    "print(\"Missing values for Train dataset\")\n",
    "describe_missing_values(train)\n",
    "\n",
    "print(\"Missing values for Test dataset\")\n",
    "describe_missing_values(test)"
   ]
  },
  {
   "cell_type": "markdown",
   "metadata": {},
   "source": [
    "Nous allos imputer les données manquantes par leur moyenne\n"
   ]
  },
  {
   "cell_type": "code",
   "execution_count": 30,
   "metadata": {},
   "outputs": [],
   "source": [
    "train.fillna(value=train.mean(), inplace=True)\n",
    "test.fillna(value=test.mean(), inplace=True)"
   ]
  },
  {
   "cell_type": "code",
   "execution_count": 31,
   "metadata": {
    "scrolled": true
   },
   "outputs": [
    {
     "name": "stdout",
     "output_type": "stream",
     "text": [
      "Missing values for Train dataset\n"
     ]
    },
    {
     "data": {
      "image/png": "[encoded data removed]",
      "text/plain": [
       "<matplotlib.figure.Figure at 0x277d2faa7b8>"
      ]
     },
     "metadata": {},
     "output_type": "display_data"
    },
    {
     "name": "stdout",
     "output_type": "stream",
     "text": [
      "Missing values for Test dataset\n"
     ]
    },
    {
     "data": {
      "image/png": "[encoded data removed]",
      "text/plain": [
       "<matplotlib.figure.Figure at 0x277d2aa9940>"
      ]
     },
     "metadata": {},
     "output_type": "display_data"
    }
   ],
   "source": [
    "print(\"Missing values for Train dataset\")\n",
    "describe_missing_values(train)\n",
    "\n",
    "print(\"Missing values for Test dataset\")\n",
    "describe_missing_values(test)"
   ]
  },
  {
   "cell_type": "code",
   "execution_count": 32,
   "metadata": {
    "scrolled": true
   },
   "outputs": [
    {
     "data": {
      "text/plain": [
       "PERID       0\n",
       "IFATHER     0\n",
       "NRCH17_2    0\n",
       "IRHHSIZ2    0\n",
       "IIHHSIZ2    0\n",
       "dtype: int64"
      ]
     },
     "execution_count": 32,
     "metadata": {},
     "output_type": "execute_result"
    }
   ],
   "source": [
    "train.isnull().sum()\n",
    "test.isnull().sum().head()"
   ]
  },
  {
   "cell_type": "code",
   "execution_count": 33,
   "metadata": {},
   "outputs": [
    {
     "data": {
      "text/plain": [
       "4.00000    34873\n",
       "1.00000     7780\n",
       "2.00000     3050\n",
       "3.00000       13\n",
       "3.35574        2\n",
       "Name: IFATHER, dtype: int64"
      ]
     },
     "execution_count": 33,
     "metadata": {},
     "output_type": "execute_result"
    },
    {
     "data": {
      "image/png": "[encoded data removed]",
      "text/plain": [
       "<matplotlib.figure.Figure at 0x277d32d4e80>"
      ]
     },
     "metadata": {},
     "output_type": "display_data"
    }
   ],
   "source": [
    "sns.countplot(x='IFATHER', data=train) \n",
    "train['IFATHER'].value_counts()"
   ]
  },
  {
   "cell_type": "code",
   "execution_count": 34,
   "metadata": {},
   "outputs": [
    {
     "data": {
      "text/plain": [
       "[PERID, IFATHER, NRCH17_2, IRHHSIZ2, IIHHSIZ2, ..., AIIND102, ANALWT_C, VESTR, VEREP, Criminal]\n",
       "Length: 72\n",
       "Categories (72, object): [AIIND102, ANALWT_C, ANYHLTI2, CAIDCHIP, ..., TOOLONG, TROUBUND, VEREP, VESTR]"
      ]
     },
     "execution_count": 34,
     "metadata": {},
     "output_type": "execute_result"
    }
   ],
   "source": [
    "pd.Categorical(train)\n"
   ]
  },
  {
   "cell_type": "code",
   "execution_count": 35,
   "metadata": {},
   "outputs": [
    {
     "data": {
      "text/plain": [
       "<seaborn.axisgrid.FacetGrid at 0x277d23342e8>"
      ]
     },
     "execution_count": 35,
     "metadata": {},
     "output_type": "execute_result"
    },
    {
     "data": {
      "image/png": "[encoded data removed]",
      "text/plain": [
       "<matplotlib.figure.Figure at 0x277d229cf28>"
      ]
     },
     "metadata": {},
     "output_type": "display_data"
    }
   ],
   "source": [
    "#la variable 'criminal' dans la distribution de la variable 'IFATHER'.\n",
    "sns.factorplot(x='Criminal', col='IFATHER', kind='count', data=train)"
   ]
  },
  {
   "cell_type": "code",
   "execution_count": 36,
   "metadata": {},
   "outputs": [
    {
     "data": {
      "text/plain": [
       "<seaborn.axisgrid.FacetGrid at 0x277d2705668>"
      ]
     },
     "execution_count": 36,
     "metadata": {},
     "output_type": "execute_result"
    },
    {
     "data": {
      "image/png": "[encoded data removed]",
      "text/plain": [
       "<matplotlib.figure.Figure at 0x277d27055f8>"
      ]
     },
     "metadata": {},
     "output_type": "display_data"
    }
   ],
   "source": [
    "sns.factorplot(x='Criminal', col='NRCH17_2', kind='count', data=train)"
   ]
  },
  {
   "cell_type": "code",
   "execution_count": 37,
   "metadata": {},
   "outputs": [
    {
     "data": {
      "text/plain": [
       "<seaborn.axisgrid.FacetGrid at 0x277d232ca58>"
      ]
     },
     "execution_count": 37,
     "metadata": {},
     "output_type": "execute_result"
    },
    {
     "data": {
      "image/png": "[encoded data removed]",
      "text/plain": [
       "<matplotlib.figure.Figure at 0x277d2334f98>"
      ]
     },
     "metadata": {},
     "output_type": "display_data"
    }
   ],
   "source": [
    "sns.factorplot(x='Criminal', col='POVERTY3', kind='count', data=train)"
   ]
  },
  {
   "cell_type": "markdown",
   "metadata": {},
   "source": [
    "Nous pouvons faire un coupleplot qui est un excellent moyen d'afficher la plupart des informations que nous avons déjà découvertes dans une seule grille de tracés."
   ]
  },
  {
   "cell_type": "code",
   "execution_count": 38,
   "metadata": {},
   "outputs": [],
   "source": [
    "#sns.pairplot(train, hue='Criminal')"
   ]
  },
  {
   "cell_type": "code",
   "execution_count": 39,
   "metadata": {},
   "outputs": [
    {
     "data": {
      "text/html": [
       "<div>\n",
       "<style scoped>\n",
       "    .dataframe tbody tr th:only-of-type {\n",
       "        vertical-align: middle;\n",
       "    }\n",
       "\n",
       "    .dataframe tbody tr th {\n",
       "        vertical-align: top;\n",
       "    }\n",
       "\n",
       "    .dataframe thead th {\n",
       "        text-align: right;\n",
       "    }\n",
       "</style>\n",
       "<table border=\"1\" class=\"dataframe\">\n",
       "  <thead>\n",
       "    <tr style=\"text-align: right;\">\n",
       "      <th></th>\n",
       "      <th>count</th>\n",
       "      <th>mean</th>\n",
       "      <th>std</th>\n",
       "      <th>min</th>\n",
       "      <th>25%</th>\n",
       "      <th>50%</th>\n",
       "      <th>75%</th>\n",
       "      <th>max</th>\n",
       "    </tr>\n",
       "    <tr>\n",
       "      <th>Criminal</th>\n",
       "      <th></th>\n",
       "      <th></th>\n",
       "      <th></th>\n",
       "      <th></th>\n",
       "      <th></th>\n",
       "      <th></th>\n",
       "      <th></th>\n",
       "      <th></th>\n",
       "    </tr>\n",
       "  </thead>\n",
       "  <tbody>\n",
       "    <tr>\n",
       "      <th>0</th>\n",
       "      <td>42543.0</td>\n",
       "      <td>1.640676</td>\n",
       "      <td>0.617992</td>\n",
       "      <td>1.0</td>\n",
       "      <td>1.0</td>\n",
       "      <td>2.0</td>\n",
       "      <td>2.0</td>\n",
       "      <td>3.0</td>\n",
       "    </tr>\n",
       "    <tr>\n",
       "      <th>1</th>\n",
       "      <td>3175.0</td>\n",
       "      <td>1.720945</td>\n",
       "      <td>0.615581</td>\n",
       "      <td>1.0</td>\n",
       "      <td>1.0</td>\n",
       "      <td>2.0</td>\n",
       "      <td>2.0</td>\n",
       "      <td>3.0</td>\n",
       "    </tr>\n",
       "  </tbody>\n",
       "</table>\n",
       "</div>"
      ],
      "text/plain": [
       "            count      mean       std  min  25%  50%  75%  max\n",
       "Criminal                                                      \n",
       "0         42543.0  1.640676  0.617992  1.0  1.0  2.0  2.0  3.0\n",
       "1          3175.0  1.720945  0.615581  1.0  1.0  2.0  2.0  3.0"
      ]
     },
     "execution_count": 39,
     "metadata": {},
     "output_type": "execute_result"
    }
   ],
   "source": [
    "train.groupby('Criminal').PDEN10.describe()"
   ]
  },
  {
   "cell_type": "code",
   "execution_count": 40,
   "metadata": {},
   "outputs": [
    {
     "data": {
      "text/html": [
       "<div>\n",
       "<style scoped>\n",
       "    .dataframe tbody tr th:only-of-type {\n",
       "        vertical-align: middle;\n",
       "    }\n",
       "\n",
       "    .dataframe tbody tr th {\n",
       "        vertical-align: top;\n",
       "    }\n",
       "\n",
       "    .dataframe thead th {\n",
       "        text-align: right;\n",
       "    }\n",
       "</style>\n",
       "<table border=\"1\" class=\"dataframe\">\n",
       "  <thead>\n",
       "    <tr style=\"text-align: right;\">\n",
       "      <th></th>\n",
       "      <th>count</th>\n",
       "      <th>mean</th>\n",
       "      <th>std</th>\n",
       "      <th>min</th>\n",
       "      <th>25%</th>\n",
       "      <th>50%</th>\n",
       "      <th>75%</th>\n",
       "      <th>max</th>\n",
       "    </tr>\n",
       "    <tr>\n",
       "      <th>Criminal</th>\n",
       "      <th></th>\n",
       "      <th></th>\n",
       "      <th></th>\n",
       "      <th></th>\n",
       "      <th></th>\n",
       "      <th></th>\n",
       "      <th></th>\n",
       "      <th></th>\n",
       "    </tr>\n",
       "  </thead>\n",
       "  <tbody>\n",
       "    <tr>\n",
       "      <th>0</th>\n",
       "      <td>42543.0</td>\n",
       "      <td>1.148281</td>\n",
       "      <td>0.447535</td>\n",
       "      <td>1.0</td>\n",
       "      <td>1.0</td>\n",
       "      <td>1.0</td>\n",
       "      <td>1.0</td>\n",
       "      <td>3.0</td>\n",
       "    </tr>\n",
       "    <tr>\n",
       "      <th>1</th>\n",
       "      <td>3175.0</td>\n",
       "      <td>1.355906</td>\n",
       "      <td>0.664100</td>\n",
       "      <td>1.0</td>\n",
       "      <td>1.0</td>\n",
       "      <td>1.0</td>\n",
       "      <td>1.5</td>\n",
       "      <td>3.0</td>\n",
       "    </tr>\n",
       "  </tbody>\n",
       "</table>\n",
       "</div>"
      ],
      "text/plain": [
       "            count      mean       std  min  25%  50%  75%  max\n",
       "Criminal                                                      \n",
       "0         42543.0  1.148281  0.447535  1.0  1.0  1.0  1.0  3.0\n",
       "1          3175.0  1.355906  0.664100  1.0  1.0  1.0  1.5  3.0"
      ]
     },
     "execution_count": 40,
     "metadata": {},
     "output_type": "execute_result"
    }
   ],
   "source": [
    "train.groupby('Criminal').IRHH65_2.describe()"
   ]
  },
  {
   "cell_type": "markdown",
   "metadata": {},
   "source": [
    "# 3. Algorithmes de prediction \n",
    "\n",
    "Nous avons gagné quelques aperçus de la parie EDA. Mais avec cela, nous ne pouvons pas précisement prévoir ou dire si personne commettra un crime ou pas. Maintenant nous prevoirons si une personne commetra un crime ou pas en utilisant quelles grands Algorithmes de Classification pour résoudre le problème qui nous est posé. \n",
    "\n",
    "###### 1) Regression logistique \n",
    "\n",
    "###### 2) K-Nearest Neighbours (KNN)\n",
    "\n",
    "###### 3) Gaussien Naive Bayes (GNB)\n",
    "\n",
    "##### 4) Support  Vector Machine (SVM)\n",
    "\n",
    "##### 5) Decission Tree\n",
    "\n",
    "##### 6) Random Forest \n",
    "\n",
    "##### 7) Gradient Boosting Classifier"
   ]
  },
  {
   "cell_type": "markdown",
   "metadata": {},
   "source": [
    "A présent nous allons essayer de separer notre jeu de données Train en deux parties: une avec la variable `Criminal` et une autre sans la varible. \n",
    "Afin nous allons utiliser les algorithmes de prédictions en machine learning"
   ]
  },
  {
   "cell_type": "code",
   "execution_count": 41,
   "metadata": {},
   "outputs": [],
   "source": [
    "# separation de la variable dependant et independant \n",
    "\n",
    "X = train.drop(['Criminal'], axis=1)\n",
    "y = train[\"Criminal\"]"
   ]
  },
  {
   "cell_type": "code",
   "execution_count": 42,
   "metadata": {},
   "outputs": [
    {
     "data": {
      "text/plain": [
       "0    0\n",
       "1    1\n",
       "2    0\n",
       "3    0\n",
       "4    0\n",
       "Name: Criminal, dtype: int64"
      ]
     },
     "execution_count": 42,
     "metadata": {},
     "output_type": "execute_result"
    }
   ],
   "source": [
    "#X.head()\n",
    "y.head()\n"
   ]
  },
  {
   "cell_type": "code",
   "execution_count": 43,
   "metadata": {},
   "outputs": [],
   "source": [
    "#list1 = ['PERID']\n",
    "#X = train.drop(list1,axis = 1)\n",
    "\n",
    "#features = X.columns[x.columns!=\"Criminal\"]"
   ]
  },
  {
   "cell_type": "code",
   "execution_count": 44,
   "metadata": {},
   "outputs": [],
   "source": [
    "# split dans les données train et test\n",
    "from sklearn.model_selection import train_test_split\n",
    "\n",
    "x_train, x_test, y_train, y_test = train_test_split(X,y,test_size = 0.30, random_state = 1, stratify =train['Criminal'])"
   ]
  },
  {
   "cell_type": "code",
   "execution_count": 45,
   "metadata": {},
   "outputs": [],
   "source": [
    "# Feature Scaling\n",
    "from sklearn.preprocessing import StandardScaler\n",
    "sc = StandardScaler()\n",
    "x_train = sc.fit_transform(x_train)\n",
    "x_test = sc.transform(x_test)"
   ]
  },
  {
   "cell_type": "code",
   "execution_count": 47,
   "metadata": {},
   "outputs": [],
   "source": [
    "#def plot_variable_importance( X , y ):\n",
    " #   tree = DecisionTreeClassifier( random_state = 99 )\n",
    "  #  tree.fit( X , y )\n",
    "   # plot_model_var_imp( tree , X , y )\n",
    "\n",
    "    \n",
    "#def plot_model_var_imp( model , X , y ):\n",
    "#   imp = pd.DataFrame( \n",
    " #       model.feature_importances_  , \n",
    "  #      columns = [ 'Criminal' ] , \n",
    "   #     index = X.columns \n",
    "    #)\n",
    "    #imp = imp.sort_values( [ 'Criminal' ] , ascending = True )\n",
    "    #imp[ : 10 ].plot( kind = 'barh' )\n",
    "    #print(model.score( X , y ))"
   ]
  },
  {
   "cell_type": "code",
   "execution_count": null,
   "metadata": {},
   "outputs": [],
   "source": []
  },
  {
   "cell_type": "code",
   "execution_count": 48,
   "metadata": {},
   "outputs": [],
   "source": [
    "final_test = sc.transform(test)\n",
    "from sklearn.tree import DecisionTreeClassifier\n",
    "from sklearn.model_selection import cross_val_score, StratifiedKFold\n",
    "from sklearn.linear_model import LogisticRegression\n",
    "from sklearn.metrics import mean_squared_error\n",
    "from sklearn.ensemble import BaggingClassifier\n",
    "from sklearn.metrics import accuracy_score,classification_report, precision_recall_curve, confusion_matrix\n",
    "from sklearn.metrics import confusion_matrix"
   ]
  },
  {
   "cell_type": "markdown",
   "metadata": {},
   "source": [
    "#### Logistic Regression "
   ]
  },
  {
   "cell_type": "code",
   "execution_count": 49,
   "metadata": {},
   "outputs": [
    {
     "name": "stdout",
     "output_type": "stream",
     "text": [
      "0.938\n"
     ]
    }
   ],
   "source": [
    "# Effectuons un model de  regression logistique \n",
    "\n",
    "from sklearn.linear_model import LogisticRegression\n",
    "logreg = LogisticRegression()\n",
    "logreg.fit(x_train,y_train)\n",
    "y_pred = logreg.predict(x_test)\n",
    "logreg_accy = round(accuracy_score(y_pred,y_test), 3)\n",
    "print (logreg_accy)"
   ]
  },
  {
   "cell_type": "code",
   "execution_count": 50,
   "metadata": {},
   "outputs": [
    {
     "name": "stdout",
     "output_type": "stream",
     "text": [
      "             precision    recall  f1-score   support\n",
      "\n",
      "          0       0.95      0.98      0.97     12763\n",
      "          1       0.59      0.35      0.44       953\n",
      "\n",
      "avg / total       0.93      0.94      0.93     13716\n",
      "\n",
      "[[12537   623]\n",
      " [  226   330]]\n"
     ]
    }
   ],
   "source": [
    "print (classification_report(y_test, y_pred, labels=logreg.classes_))\n",
    "print (confusion_matrix(y_pred, y_test))"
   ]
  },
  {
   "cell_type": "code",
   "execution_count": 51,
   "metadata": {},
   "outputs": [
    {
     "data": {
      "text/plain": [
       "0.93810148731408571"
      ]
     },
     "execution_count": 51,
     "metadata": {},
     "output_type": "execute_result"
    }
   ],
   "source": [
    "accuracy_score(y_pred, y_test)"
   ]
  },
  {
   "cell_type": "code",
   "execution_count": 52,
   "metadata": {},
   "outputs": [
    {
     "name": "stdout",
     "output_type": "stream",
     "text": [
      "             precision    recall  f1-score   support\n",
      "\n",
      "          0       0.95      0.98      0.97     12763\n",
      "          1       0.59      0.35      0.44       953\n",
      "\n",
      "avg / total       0.93      0.94      0.93     13716\n",
      "\n"
     ]
    }
   ],
   "source": [
    "from sklearn.metrics import classification_report\n",
    "print(classification_report(y_test, y_pred))"
   ]
  },
  {
   "cell_type": "markdown",
   "metadata": {},
   "source": [
    "#### K-Nearest Neighbours Classifier (KNN)  "
   ]
  },
  {
   "cell_type": "code",
   "execution_count": 53,
   "metadata": {},
   "outputs": [
    {
     "name": "stdout",
     "output_type": "stream",
     "text": [
      "Accuracy pour le KNN 0.938\n"
     ]
    }
   ],
   "source": [
    "#knn classifier\n",
    "from sklearn.neighbors import KNeighborsClassifier\n",
    "\n",
    "knn = KNeighborsClassifier(algorithm='auto',\n",
    "                           leaf_size=30, \n",
    "                           metric='minkowski',\n",
    "                           metric_params=None, \n",
    "                           n_jobs=1,\n",
    "                           n_neighbors=7, p=2,\n",
    "                           weights='uniform' )\n",
    "knn.fit(x_train, y_train)\n",
    "y_pred = knn.predict(x_test)\n",
    "knn_accy = round(accuracy_score(y_test, y_pred), 3)\n",
    "print ('Accuracy pour le KNN' ,knn_accy)"
   ]
  },
  {
   "cell_type": "markdown",
   "metadata": {},
   "source": [
    "Verifions les accuracies en fonctions des valeurs `n_neighbours`."
   ]
  },
  {
   "cell_type": "code",
   "execution_count": 52,
   "metadata": {},
   "outputs": [
    {
     "data": {
      "image/png": "[encoded data removed]",
      "text/plain": [
       "<matplotlib.figure.Figure at 0x26d3a66afd0>"
      ]
     },
     "metadata": {},
     "output_type": "display_data"
    },
    {
     "name": "stdout",
     "output_type": "stream",
     "text": [
      "Accuracies pour les differentes n valeurs sont: [ 0.9208953   0.93226888  0.93197725  0.93686206  0.93606008  0.93759113\n",
      "  0.93810149  0.93737241  0.93751823  0.93810149] avec la valeur maximal 0.938101487314\n"
     ]
    }
   ],
   "source": [
    "a_index=list(range(1,11))\n",
    "a=pd.Series()\n",
    "x=[0,1,2,3,4,5,6,7,8,9,10]\n",
    "for i in list(range(1,11)):\n",
    "    model=KNeighborsClassifier(n_neighbors=i) \n",
    "    model.fit(x_train,y_train)\n",
    "    prediction=model.predict(x_test)\n",
    "    a=a.append(pd.Series(accuracy_score(prediction,y_test)))\n",
    "plt.plot(a_index, a)\n",
    "plt.xticks(x)\n",
    "fig=plt.gcf()\n",
    "fig.set_size_inches(12,6)\n",
    "plt.show()\n",
    "print('Accuracies pour les differentes n valeurs sont:',a.values,'avec la valeur maximal',a.values.max())"
   ]
  },
  {
   "cell_type": "markdown",
   "metadata": {},
   "source": [
    "L'accuracy pour le modèle de KNN change en fonction de la valeur du `n_neighbours` qui lui est attribué. La valeur par defaut est ici `7` "
   ]
  },
  {
   "cell_type": "markdown",
   "metadata": {},
   "source": [
    "#### Gaussian Naive Bayes (GNB)"
   ]
  },
  {
   "cell_type": "code",
   "execution_count": 54,
   "metadata": {},
   "outputs": [
    {
     "name": "stdout",
     "output_type": "stream",
     "text": [
      "Accuracy pour le GNB 0.422\n"
     ]
    }
   ],
   "source": [
    "#Gaussian Naive Bayes\n",
    "from sklearn.naive_bayes import GaussianNB\n",
    "from sklearn.metrics import accuracy_score\n",
    "\n",
    "gaussian = GaussianNB()\n",
    "gaussian.fit(x_train, y_train)\n",
    "y_pred = gaussian.predict(x_test)\n",
    "gaussian_accy = round(accuracy_score(y_pred, y_test), 3)\n",
    "print('Accuracy pour le GNB' ,gaussian_accy)"
   ]
  },
  {
   "cell_type": "markdown",
   "metadata": {},
   "source": [
    "###  linear Support Vector Machines (SVM)"
   ]
  },
  {
   "cell_type": "code",
   "execution_count": 55,
   "metadata": {
    "scrolled": true
   },
   "outputs": [
    {
     "name": "stdout",
     "output_type": "stream",
     "text": [
      "0.941\n"
     ]
    }
   ],
   "source": [
    "# support vector machine\n",
    "\n",
    "from sklearn.svm import SVC\n",
    "svc = SVC(kernel = 'linear', C= 0.1, gamma=0.1)\n",
    "svc.fit(x_train, y_train)\n",
    "y_pred = svc.predict(x_test)\n",
    "svc_accy = round(accuracy_score(y_pred, y_test), 3)\n",
    "print(svc_accy)"
   ]
  },
  {
   "cell_type": "markdown",
   "metadata": {},
   "source": [
    "### Nolinear SVM kernal = 'rbf'"
   ]
  },
  {
   "cell_type": "code",
   "execution_count": 56,
   "metadata": {},
   "outputs": [
    {
     "name": "stdout",
     "output_type": "stream",
     "text": [
      "0.944\n"
     ]
    }
   ],
   "source": [
    "# No linear support vector machine\n",
    "\n",
    "from sklearn.svm import SVC\n",
    "svc = SVC(kernel = 'rbf', C= 1, gamma=0.1)\n",
    "svc.fit(x_train, y_train)\n",
    "y_pred = svc.predict(x_test)\n",
    "svc_accy = round(accuracy_score(y_pred, y_test), 3)\n",
    "print(svc_accy)"
   ]
  },
  {
   "cell_type": "markdown",
   "metadata": {},
   "source": [
    "### Nolinear SVM kernel = 'poly'"
   ]
  },
  {
   "cell_type": "code",
   "execution_count": 57,
   "metadata": {},
   "outputs": [
    {
     "name": "stdout",
     "output_type": "stream",
     "text": [
      "0.945\n"
     ]
    }
   ],
   "source": [
    "# No linear support vector machine\n",
    "\n",
    "from sklearn.svm import SVC\n",
    "svc = SVC(kernel = 'poly', C= 0.1, gamma=0.1)\n",
    "svc.fit(x_train, y_train)\n",
    "y_pred = svc.predict(x_test)\n",
    "svc_accy = round(accuracy_score(y_pred, y_test), 3)\n",
    "print(svc_accy)"
   ]
  },
  {
   "cell_type": "markdown",
   "metadata": {},
   "source": [
    "### Decission Tree (DT)"
   ]
  },
  {
   "cell_type": "code",
   "execution_count": 58,
   "metadata": {},
   "outputs": [
    {
     "name": "stdout",
     "output_type": "stream",
     "text": [
      "0.85\n"
     ]
    }
   ],
   "source": [
    "#Decision Tree\n",
    "from sklearn.tree import DecisionTreeClassifier\n",
    "\n",
    "dectree = DecisionTreeClassifier( max_depth=5, \n",
    "                                class_weight = 'balanced',\n",
    "                                min_weight_fraction_leaf = 0.01)\n",
    "dectree.fit(x_train, y_train)\n",
    "y_pred = dectree.predict(x_test)\n",
    "dectree_accy = round(accuracy_score(y_pred, y_test), 3)\n",
    "print(dectree_accy)"
   ]
  },
  {
   "cell_type": "markdown",
   "metadata": {},
   "source": [
    "### Random Forest  (RF)"
   ]
  },
  {
   "cell_type": "code",
   "execution_count": 59,
   "metadata": {},
   "outputs": [
    {
     "name": "stdout",
     "output_type": "stream",
     "text": [
      "0.953\n"
     ]
    }
   ],
   "source": [
    "#random Forest\n",
    "from sklearn.ensemble import RandomForestClassifier\n",
    "randomforest = RandomForestClassifier(n_estimators=100, max_depth=6, \n",
    "                                      min_samples_leaf=100, \n",
    "                                      max_features=0.5, bootstrap=False, \n",
    "                                      n_jobs=-1, random_state=123)\n",
    "#randomforest = RandomForestClassifier(class_weight='balanced', n_jobs=-1)\n",
    "randomforest.fit(x_train, y_train)\n",
    "y_pred = randomforest.predict(x_test)\n",
    "random_accy = round(accuracy_score(y_pred, y_test), 3)\n",
    "print (random_accy)"
   ]
  },
  {
   "cell_type": "code",
   "execution_count": 60,
   "metadata": {},
   "outputs": [],
   "source": [
    "#test_submission.to_csv('submission_rf_.csv', index=False)"
   ]
  },
  {
   "cell_type": "markdown",
   "metadata": {},
   "source": [
    "### Gradient Boosting Classifier (GB)"
   ]
  },
  {
   "cell_type": "code",
   "execution_count": 61,
   "metadata": {},
   "outputs": [
    {
     "name": "stdout",
     "output_type": "stream",
     "text": [
      "0.953\n"
     ]
    }
   ],
   "source": [
    "# Gradient Boosting Classifier\n",
    "from sklearn.ensemble import GradientBoostingClassifier\n",
    "\n",
    "gradient = GradientBoostingClassifier()\n",
    "gradient.fit(x_train, y_train)\n",
    "y_pred = gradient.predict(x_test)\n",
    "gradient_accy = round(accuracy_score(y_pred, y_test), 3)\n",
    "print(gradient_accy)\n"
   ]
  },
  {
   "cell_type": "code",
   "execution_count": null,
   "metadata": {},
   "outputs": [],
   "source": []
  },
  {
   "cell_type": "code",
   "execution_count": 62,
   "metadata": {},
   "outputs": [],
   "source": [
    "test_prediction = gradient.predict(final_test)\n",
    "test.shape\n",
    "test.head()\n",
    "test.to_csv( 'sample_submission_criminal.csv' , index = False )"
   ]
  },
  {
   "cell_type": "code",
   "execution_count": 63,
   "metadata": {},
   "outputs": [],
   "source": [
    "gradient_sub =  pd.read_csv('C:/Users/hp/Desktop/Cours_3A/DataCamp/Projet_data_camp/sub_edit.csv')"
   ]
  },
  {
   "cell_type": "code",
   "execution_count": 64,
   "metadata": {},
   "outputs": [
    {
     "data": {
      "text/html": [
       "<div>\n",
       "<style scoped>\n",
       "    .dataframe tbody tr th:only-of-type {\n",
       "        vertical-align: middle;\n",
       "    }\n",
       "\n",
       "    .dataframe tbody tr th {\n",
       "        vertical-align: top;\n",
       "    }\n",
       "\n",
       "    .dataframe thead th {\n",
       "        text-align: right;\n",
       "    }\n",
       "</style>\n",
       "<table border=\"1\" class=\"dataframe\">\n",
       "  <thead>\n",
       "    <tr style=\"text-align: right;\">\n",
       "      <th></th>\n",
       "      <th>PERID</th>\n",
       "      <th>Criminal</th>\n",
       "    </tr>\n",
       "  </thead>\n",
       "  <tbody>\n",
       "    <tr>\n",
       "      <th>0</th>\n",
       "      <td>66583679</td>\n",
       "      <td>0</td>\n",
       "    </tr>\n",
       "    <tr>\n",
       "      <th>1</th>\n",
       "      <td>35494679</td>\n",
       "      <td>0</td>\n",
       "    </tr>\n",
       "    <tr>\n",
       "      <th>2</th>\n",
       "      <td>79424679</td>\n",
       "      <td>0</td>\n",
       "    </tr>\n",
       "    <tr>\n",
       "      <th>3</th>\n",
       "      <td>11744679</td>\n",
       "      <td>0</td>\n",
       "    </tr>\n",
       "    <tr>\n",
       "      <th>4</th>\n",
       "      <td>31554679</td>\n",
       "      <td>0</td>\n",
       "    </tr>\n",
       "  </tbody>\n",
       "</table>\n",
       "</div>"
      ],
      "text/plain": [
       "      PERID  Criminal\n",
       "0  66583679         0\n",
       "1  35494679         0\n",
       "2  79424679         0\n",
       "3  11744679         0\n",
       "4  31554679         0"
      ]
     },
     "execution_count": 64,
     "metadata": {},
     "output_type": "execute_result"
    }
   ],
   "source": [
    "gradient_sub.head()"
   ]
  },
  {
   "cell_type": "markdown",
   "metadata": {},
   "source": [
    "### Submission modèles de prediction pour la compétition "
   ]
  },
  {
   "cell_type": "code",
   "execution_count": null,
   "metadata": {},
   "outputs": [],
   "source": []
  },
  {
   "cell_type": "code",
   "execution_count": 64,
   "metadata": {},
   "outputs": [],
   "source": [
    "featuers = train.columns[train.columns != 'Criminal']\n",
    "train_x = train[featuers]\n",
    "train_y = train['Criminal']\n",
    "list =['PERID']\n",
    "xx = train.drop(list, axis =1)\n",
    "yy = test.drop(list, axis =1)\n",
    "list1 = ['TROUBUND']\n",
    "xx = xx.drop(list1,axis=1)\n",
    "yy = yy.drop(list1,axis=1)\n",
    "xx = xx.drop('Criminal',axis=1)\n",
    "model = GradientBoostingClassifier(criterion='friedman_mse', init=None,\n",
    "              learning_rate=0.1, loss='deviance', max_depth=3,\n",
    "              max_features=None, max_leaf_nodes=None,\n",
    "              min_impurity_decrease=0.0, min_impurity_split=None,\n",
    "              min_samples_leaf=1, min_samples_split=2,\n",
    "              min_weight_fraction_leaf=0.0, n_estimators=100,\n",
    "              presort='auto', random_state=0, subsample=1.0, verbose=0,\n",
    "              warm_start=False)\n",
    "model.fit(xx,train_y)\n",
    "predicted = model.predict(yy)\n",
    "sub2 = pd.DataFrame({'PERID':test.PERID, 'Criminal':predicted})\n",
    "sub2 = sub2[['PERID', 'Criminal']]\n",
    "sub2.to_csv('sub_gradient.csv', index=False)"
   ]
  },
  {
   "cell_type": "markdown",
   "metadata": {},
   "source": [
    "### Cross Validation "
   ]
  },
  {
   "cell_type": "markdown",
   "metadata": {},
   "source": [
    "Le plus souvent les données que nous étudions sont déséquilibrés, soit il peut y avoir un nombre élevé de cas. Ainsi nous devrions former et tester notre algorithme sur chaque cas de l'ensemble de données.Alors nous pouvons prendre une moyenne de toutes les exactitudes célèbres sur l'ensemble de données.\n",
    "\n",
    "1) Le K-Fold Cross Validation en divisant l'ensemble de données dans k-sous-ensembles.\n",
    "\n",
    "2) Disons que nous divisons l'ensemble de données en (k=5) parties. Nous réservons une partie pour le test et formons l'algorithme sur les 4 parties.\n",
    "\n",
    "3) Nous continuons le processus en changeant la partie de test dans chaque itération et formation de l'algorithme sur les autres parties. Les exactitudes et les erreurs sont alors atteintes en moyenne pour obtenir une exactitude moyenne de l'algorithme.\n",
    "\n",
    "C'est ce qu'on appelle le K-Fold Cross Validation."
   ]
  },
  {
   "cell_type": "code",
   "execution_count": 65,
   "metadata": {},
   "outputs": [
    {
     "name": "stdout",
     "output_type": "stream",
     "text": [
      "LogisticRegression(C=1.0, class_weight=None, dual=False, fit_intercept=True,\n",
      "          intercept_scaling=1, max_iter=100, multi_class='ovr', n_jobs=1,\n",
      "          penalty='l2', random_state=None, solver='liblinear', tol=0.0001,\n",
      "          verbose=0, warm_start=False)\n",
      "KNeighborsClassifier(algorithm='auto', leaf_size=30, metric='minkowski',\n",
      "           metric_params=None, n_jobs=1, n_neighbors=7, p=2,\n",
      "           weights='uniform')\n",
      "GaussianNB(priors=None)\n",
      "SVC(C=1.0, cache_size=200, class_weight=None, coef0=0.0,\n",
      "  decision_function_shape='ovr', degree=3, gamma='auto', kernel='rbf',\n",
      "  max_iter=-1, probability=False, random_state=None, shrinking=True,\n",
      "  tol=0.001, verbose=False)\n",
      "DecisionTreeClassifier(class_weight=None, criterion='gini', max_depth=None,\n",
      "            max_features=None, max_leaf_nodes=None,\n",
      "            min_impurity_decrease=0.0, min_impurity_split=None,\n",
      "            min_samples_leaf=1, min_samples_split=2,\n",
      "            min_weight_fraction_leaf=0.0, presort=False, random_state=None,\n",
      "            splitter='best')\n",
      "RandomForestClassifier(bootstrap=True, class_weight=None, criterion='gini',\n",
      "            max_depth=None, max_features='auto', max_leaf_nodes=None,\n",
      "            min_impurity_decrease=0.0, min_impurity_split=None,\n",
      "            min_samples_leaf=1, min_samples_split=2,\n",
      "            min_weight_fraction_leaf=0.0, n_estimators=50, n_jobs=1,\n",
      "            oob_score=False, random_state=None, verbose=0,\n",
      "            warm_start=False)\n",
      "GradientBoostingClassifier(criterion='friedman_mse', init=None,\n",
      "              learning_rate=0.1, loss='deviance', max_depth=3,\n",
      "              max_features=None, max_leaf_nodes=None,\n",
      "              min_impurity_decrease=0.0, min_impurity_split=None,\n",
      "              min_samples_leaf=1, min_samples_split=2,\n",
      "              min_weight_fraction_leaf=0.0, n_estimators=100,\n",
      "              presort='auto', random_state=None, subsample=1.0, verbose=0,\n",
      "              warm_start=False)\n"
     ]
    },
    {
     "data": {
      "text/html": [
       "<div>\n",
       "<style scoped>\n",
       "    .dataframe tbody tr th:only-of-type {\n",
       "        vertical-align: middle;\n",
       "    }\n",
       "\n",
       "    .dataframe tbody tr th {\n",
       "        vertical-align: top;\n",
       "    }\n",
       "\n",
       "    .dataframe thead th {\n",
       "        text-align: right;\n",
       "    }\n",
       "</style>\n",
       "<table border=\"1\" class=\"dataframe\">\n",
       "  <thead>\n",
       "    <tr style=\"text-align: right;\">\n",
       "      <th></th>\n",
       "      <th>CV Mean</th>\n",
       "      <th>Std</th>\n",
       "    </tr>\n",
       "  </thead>\n",
       "  <tbody>\n",
       "    <tr>\n",
       "      <th>Logistic Regression</th>\n",
       "      <td>0.930553</td>\n",
       "      <td>0.002791</td>\n",
       "    </tr>\n",
       "    <tr>\n",
       "      <th>KNN</th>\n",
       "      <td>0.930093</td>\n",
       "      <td>0.003029</td>\n",
       "    </tr>\n",
       "    <tr>\n",
       "      <th>Gaussian Naive Bayes</th>\n",
       "      <td>0.924734</td>\n",
       "      <td>0.003020</td>\n",
       "    </tr>\n",
       "    <tr>\n",
       "      <th>Svm</th>\n",
       "      <td>0.930553</td>\n",
       "      <td>0.002791</td>\n",
       "    </tr>\n",
       "    <tr>\n",
       "      <th>Decision Tree</th>\n",
       "      <td>0.933834</td>\n",
       "      <td>0.002441</td>\n",
       "    </tr>\n",
       "    <tr>\n",
       "      <th>Random Forest</th>\n",
       "      <td>0.950741</td>\n",
       "      <td>0.002356</td>\n",
       "    </tr>\n",
       "    <tr>\n",
       "      <th>Grandient Boosting</th>\n",
       "      <td>0.952863</td>\n",
       "      <td>0.001798</td>\n",
       "    </tr>\n",
       "  </tbody>\n",
       "</table>\n",
       "</div>"
      ],
      "text/plain": [
       "                       CV Mean       Std\n",
       "Logistic Regression   0.930553  0.002791\n",
       "KNN                   0.930093  0.003029\n",
       "Gaussian Naive Bayes  0.924734  0.003020\n",
       "Svm                   0.930553  0.002791\n",
       "Decision Tree         0.933834  0.002441\n",
       "Random Forest         0.950741  0.002356\n",
       "Grandient Boosting    0.952863  0.001798"
      ]
     },
     "execution_count": 65,
     "metadata": {},
     "output_type": "execute_result"
    }
   ],
   "source": [
    "from sklearn.model_selection import KFold #Pour K-fold cross validation\n",
    "from sklearn.model_selection import cross_val_score # evaluation du score \n",
    "from sklearn.model_selection import cross_val_predict #prediction\n",
    "\n",
    "\n",
    "kfold = KFold(n_splits=10, random_state=22) # k=10, split the data into 10 equal parts\n",
    "xyz=[]\n",
    "accuracy=[]\n",
    "std=[]\n",
    "classifiers=['Logistic Regression','KNN','Gaussian Naive Bayes','Svm','Decision Tree','Random Forest', 'Grandient Boosting']\n",
    "models=[LogisticRegression(),KNeighborsClassifier(n_neighbors=7),GaussianNB(),\n",
    "        SVC(),DecisionTreeClassifier(),RandomForestClassifier(n_estimators=50), GradientBoostingClassifier() ]\n",
    "for i in models:\n",
    "    model = i\n",
    "    cv_result = cross_val_score(model,X,y, cv = kfold,scoring = \"accuracy\") \n",
    "    cv_result=cv_result\n",
    "    xyz.append(cv_result.mean())\n",
    "    std.append(cv_result.std())\n",
    "    accuracy.append(cv_result)\n",
    "    print(model)\n",
    "new_models_dataframe2=pd.DataFrame({'CV Mean':xyz,'Std':std},index=classifiers)       \n",
    "new_models_dataframe2"
   ]
  },
  {
   "cell_type": "code",
   "execution_count": 66,
   "metadata": {},
   "outputs": [
    {
     "data": {
      "text/plain": [
       "<matplotlib.axes._subplots.AxesSubplot at 0x1ff826abcf8>"
      ]
     },
     "execution_count": 66,
     "metadata": {},
     "output_type": "execute_result"
    },
    {
     "data": {
      "image/png": "[encoded data removed]",
      "text/plain": [
       "<matplotlib.figure.Figure at 0x1ff826ab7b8>"
      ]
     },
     "metadata": {},
     "output_type": "display_data"
    }
   ],
   "source": [
    "plt.subplots(figsize=(12,6))\n",
    "box=pd.DataFrame(accuracy,index=[classifiers])\n",
    "box.T.boxplot()"
   ]
  },
  {
   "cell_type": "code",
   "execution_count": 67,
   "metadata": {},
   "outputs": [
    {
     "data": {
      "image/png": "[encoded data removed]",
      "text/plain": [
       "<matplotlib.figure.Figure at 0x1ff82642c18>"
      ]
     },
     "metadata": {},
     "output_type": "display_data"
    }
   ],
   "source": [
    "new_models_dataframe2['CV Mean'].plot.barh(width=0.8)\n",
    "plt.title('Average CV Mean Accuracy')\n",
    "fig=plt.gcf()\n",
    "fig.set_size_inches(8,5)\n",
    "plt.show()  "
   ]
  },
  {
   "cell_type": "markdown",
   "metadata": {},
   "source": [
    "## Hyper-Parametres Tuning \n"
   ]
  },
  {
   "cell_type": "markdown",
   "metadata": {},
   "source": [
    "Les modèles de Machine Learning ressemblent à une Boîte noire. \n",
    "Il y a quelques valeurs de paramètre par défaut pour cette Boîte noire, que nous pouvons accorder ou changer pour obtenir\n",
    "un meilleur modèle. Comme le C et le gamma dans le modèle de SVM et les paramètres de la même façon différents pour des classificateurs différents, sont appelé les hyper-paramètres, que nous pouvons régler pour changer le taux apprenant de l'algorithme et obtenir un meilleur modèle. On connaît ceci comme le Réglage Hyper-paramètre Turning.\n",
    "\n",
    "Nous accorderons les hyper-paramètres pour les 2 meilleurs classificateurs soit le `RandomForests` et `GradientBoosting`."
   ]
  },
  {
   "cell_type": "markdown",
   "metadata": {},
   "source": [
    "### Random Forests "
   ]
  },
  {
   "cell_type": "code",
   "execution_count": 73,
   "metadata": {},
   "outputs": [
    {
     "name": "stdout",
     "output_type": "stream",
     "text": [
      "Fitting 3 folds for each of 9 candidates, totalling 27 fits\n"
     ]
    },
    {
     "name": "stderr",
     "output_type": "stream",
     "text": [
      "[Parallel(n_jobs=1)]: Done  27 out of  27 | elapsed: 11.5min finished\n"
     ]
    },
    {
     "name": "stdout",
     "output_type": "stream",
     "text": [
      "0.951463318605\n",
      "RandomForestClassifier(bootstrap=True, class_weight=None, criterion='gini',\n",
      "            max_depth=None, max_features='auto', max_leaf_nodes=None,\n",
      "            min_impurity_decrease=0.0, min_impurity_split=None,\n",
      "            min_samples_leaf=1, min_samples_split=2,\n",
      "            min_weight_fraction_leaf=0.0, n_estimators=200, n_jobs=1,\n",
      "            oob_score=False, random_state=0, verbose=0, warm_start=False)\n"
     ]
    }
   ],
   "source": [
    "from sklearn.model_selection import GridSearchCV\n",
    "n_estimators=range(100,1000,100)\n",
    "hyper={'n_estimators':n_estimators}\n",
    "gd=GridSearchCV(estimator=RandomForestClassifier(random_state=0),param_grid=hyper,verbose=True)\n",
    "gd.fit(X,y)\n",
    "print(gd.best_score_)\n",
    "print(gd.best_estimator_)"
   ]
  },
  {
   "cell_type": "markdown",
   "metadata": {},
   "source": [
    "### Gradient Boosting "
   ]
  },
  {
   "cell_type": "code",
   "execution_count": 54,
   "metadata": {
    "scrolled": false
   },
   "outputs": [
    {
     "name": "stdout",
     "output_type": "stream",
     "text": [
      "Fitting 3 folds for each of 9 candidates, totalling 27 fits\n"
     ]
    },
    {
     "name": "stderr",
     "output_type": "stream",
     "text": [
      "[Parallel(n_jobs=1)]: Done  27 out of  27 | elapsed: 32.3min finished\n"
     ]
    },
    {
     "name": "stdout",
     "output_type": "stream",
     "text": [
      "0.952731965528\n",
      "GradientBoostingClassifier(criterion='friedman_mse', init=None,\n",
      "              learning_rate=0.1, loss='deviance', max_depth=3,\n",
      "              max_features=None, max_leaf_nodes=None,\n",
      "              min_impurity_decrease=0.0, min_impurity_split=None,\n",
      "              min_samples_leaf=1, min_samples_split=2,\n",
      "              min_weight_fraction_leaf=0.0, n_estimators=100,\n",
      "              presort='auto', random_state=0, subsample=1.0, verbose=0,\n",
      "              warm_start=False)\n"
     ]
    }
   ],
   "source": [
    "n_estimators=range(100,1000,100)\n",
    "hyper={'n_estimators':n_estimators}\n",
    "gd=GridSearchCV(estimator=GradientBoostingClassifier(random_state=0),param_grid=hyper,verbose=True)\n",
    "gd.fit(X,y)\n",
    "print(gd.best_score_)\n",
    "print(gd.best_estimator_)"
   ]
  },
  {
   "cell_type": "markdown",
   "metadata": {},
   "source": [
    " Rergardons dans le cas du modèle de SVM avec les parametres C et gamma "
   ]
  },
  {
   "cell_type": "code",
   "execution_count": 114,
   "metadata": {},
   "outputs": [],
   "source": [
    "#from sklearn.model_selection import GridSearchCV\n",
    "#from sklearn import svm #support vector Machine\n",
    "#C=[0.05,0.1,0.2,0.3,0.25,0.4,0.5,0.6,0.7,0.8,0.9,1]\n",
    "#gamma=[0.1,0.2,0.3,0.4,0.5,0.6,0.7,0.8,0.9,1.0]\n",
    "#kernals = ['rbf']\n",
    "#hyper={'kernel':kernals, 'C':C,'gamma':gamma}\n",
    "#gd=GridSearchCV(estimator=svm.SVC(),param_grid=hyper,verbose=True)\n",
    "#gd.fit(X,y)\n",
    "#print(gd.best_score_)\n",
    "#print(gd.best_estimator_)"
   ]
  },
  {
   "cell_type": "markdown",
   "metadata": {},
   "source": [
    "## Ensembling "
   ]
  },
  {
   "cell_type": "markdown",
   "metadata": {},
   "source": [
    "`Ensembling` est une bonne façon d'augmenter l'exactitude ou la performance d'un modèle. En effet c'est la combinaison de modèles simples divers pour créer un seul modèle puissant.\n",
    "\n",
    "En guise d'example si nous voulons acheter un smarphone et en demandant à beaucoup de personnes basé sur des paramètres divers. Alors se cas nous pouvons faire un jugement fort d'un seul produit après l'analyse de tous les paramètres différents. Ceci est l'Ensembling, qui améliore la stabilité du modèle. \n",
    "Nous pouvons le faire avec notre de jeu de données de la façons suivante:\n",
    "\n",
    "1) `Voting Classifier`\n",
    "\n",
    "2) `Bagging`\n",
    "\n",
    "3) `Boosting`."
   ]
  },
  {
   "cell_type": "markdown",
   "metadata": {},
   "source": [
    "### Voting Classifier"
   ]
  },
  {
   "cell_type": "markdown",
   "metadata": {},
   "source": [
    "C'est la façon la plus simple de prédictions en combinant beaucoup de modèles d'apprentissage automatique simples différents. Il donne un résultat de prédiction moyen basé sur la prédiction de tous les sous-modèles. \n",
    "Les sous-modèles ou le models de base étant tous de types diiferents."
   ]
  },
  {
   "cell_type": "code",
   "execution_count": 146,
   "metadata": {},
   "outputs": [],
   "source": [
    "from sklearn.ensemble import VotingClassifier\n",
    "ensemble_lin_rbf=VotingClassifier(estimators=[('LR',LogisticRegression(C=1)),\n",
    "                                              ('KNN',KNeighborsClassifier(n_neighbors=10)),\n",
    "                                              ('NB',GaussianNB()),\n",
    "                                               ('svm',SVC(kernel='linear',probability=True)),\n",
    "                                              ('RBF',SVC(probability=True,kernel='rbf',C=1,gamma=0.1)),\n",
    "                                              ('DT',DecisionTreeClassifier(random_state=0)),\n",
    "                                              ('RFor',RandomForestClassifier(n_estimators=200,random_state=0)),\n",
    "                                              ('GBC',GradientBoostingClassifier(n_estimators=100, random_state = 0, verbose = 0))\n",
    "                                             ], \n",
    "                       voting='soft').fit(x_train,y_train)\n",
    "\n",
    "\n"
   ]
  },
  {
   "cell_type": "code",
   "execution_count": null,
   "metadata": {},
   "outputs": [],
   "source": [
    "#print('The accuracy for ensembled model is:',ensemble_lin_rbf.score(x_test,x_test))\n",
    "cross=cross_val_score(ensemble_lin_rbf,X,y, cv = 10,scoring = \"accuracy\")\n",
    "#print('The cross validated score is',cross.mean())\n"
   ]
  },
  {
   "cell_type": "markdown",
   "metadata": {},
   "source": [
    "## Bagging "
   ]
  },
  {
   "cell_type": "markdown",
   "metadata": {},
   "source": [
    "Le Bagging marche bien avec avec les modèles de haute à hautes variances. En guise d'exemple pour notre cas sa sera pour la Decission Tre et le Ransom Forest. Nous pouvons eventuellement utiliser le KNN avec un nombres petit de n_neighbours. "
   ]
  },
  {
   "cell_type": "code",
   "execution_count": 65,
   "metadata": {},
   "outputs": [
    {
     "name": "stdout",
     "output_type": "stream",
     "text": [
      "The accuracy for bagged KNN is: 0.932414698163\n",
      "The cross validated score for bagged KNN is: 0.919812916362\n"
     ]
    }
   ],
   "source": [
    "from sklearn.ensemble import BaggingClassifier\n",
    "model=BaggingClassifier(base_estimator=KNeighborsClassifier(n_neighbors=3),random_state=0,n_estimators=10)\n",
    "model.fit(x_train,y_train)\n",
    "prediction=model.predict(x_test)\n",
    "print('The accuracy for bagged KNN is:',accuracy_score(prediction,y_test))\n",
    "result=cross_val_score(model,X,y,cv=10,scoring='accuracy')\n",
    "print('The cross validated score for bagged KNN is:',result.mean())"
   ]
  },
  {
   "cell_type": "markdown",
   "metadata": {},
   "source": [
    "On est pourrait avoir un resultat nettement supérieur est le Bagging du KNN en augement le `n_estimators` jusqu'à `700` par example. Mais défaut de mémoire de mon mon ordinateur j'ai limité les    "
   ]
  },
  {
   "cell_type": "markdown",
   "metadata": {},
   "source": [
    "### Bagged Decission Tree "
   ]
  },
  {
   "cell_type": "code",
   "execution_count": 66,
   "metadata": {},
   "outputs": [
    {
     "name": "stdout",
     "output_type": "stream",
     "text": [
      "The accuracy for bagged Decision Tree is: 0.949693788276\n",
      "The cross validated score for bagged Decision Tree is: 0.951091468234\n"
     ]
    }
   ],
   "source": [
    "model=BaggingClassifier(base_estimator=DecisionTreeClassifier(),\n",
    "                        random_state=0,n_estimators=100)\n",
    "model.fit(x_train,y_train)\n",
    "prediction=model.predict(x_test)\n",
    "\n",
    "print('The accuracy for bagged Decision Tree is:',\n",
    "      accuracy_score(prediction,y_test))\n",
    "result=cross_val_score(model,X,y,cv=10,scoring='accuracy')\n",
    "\n",
    "print('The cross validated score for bagged Decision Tree is:',\n",
    "      result.mean())"
   ]
  },
  {
   "cell_type": "markdown",
   "metadata": {},
   "source": [
    "### Bagged GaussianNB()"
   ]
  },
  {
   "cell_type": "code",
   "execution_count": 73,
   "metadata": {},
   "outputs": [
    {
     "name": "stdout",
     "output_type": "stream",
     "text": [
      "The accuracy for bagged GaussianNB: 0.422863808691\n",
      "The cross validated score for bagged GaussianNB is: 0.924603067157\n"
     ]
    }
   ],
   "source": [
    "model=BaggingClassifier(base_estimator=GaussianNB(),\n",
    "                        random_state=0,n_estimators=10)\n",
    "model.fit(x_train,y_train)\n",
    "prediction=model.predict(x_test)\n",
    "\n",
    "print('The accuracy for bagged GaussianNB:',\n",
    "      accuracy_score(prediction,y_test))\n",
    "result=cross_val_score(model,X,y,cv=10,scoring='accuracy')\n",
    "\n",
    "print('The cross validated score for bagged GaussianNB is:',\n",
    "      result.mean()) "
   ]
  },
  {
   "cell_type": "markdown",
   "metadata": {},
   "source": [
    "### Boosting "
   ]
  },
  {
   "cell_type": "markdown",
   "metadata": {},
   "source": [
    "Boosting est un technique d'Ensembling qui utilise l'apprentissage séquentiel de classificateurs. \n",
    "Il améliore pas à pas un modèle faible.\n",
    "\n",
    "Le Boosting marche comme suit :\n",
    "\n",
    "Un modèle est d'abord formé sur l'ensemble de données complet. Maintenant le modèle fera bien quelques cas tandis que certains mal. Maintenant dans l'itération suivante, l'apprenant se concentrera plus sur les cas à tort prévus ou y donnera plus de poids. Ainsi il essayera de prévoir le mauvais cas correctement. Maintenant ce processus itératif continu et nouveau classifeur est ajouté au modèle jusqu'à ce que la limite soit atteinte sur l'exactitude."
   ]
  },
  {
   "cell_type": "markdown",
   "metadata": {},
   "source": [
    "#### AdaBoost "
   ]
  },
  {
   "cell_type": "markdown",
   "metadata": {},
   "source": [
    "L'apprenant faible ou l'estimateur est dans ce cas un Arbre Decision (Decission Tree). \n",
    "Mais nous pouvons changer le dafault base_estimator à n'importe quel algorithme de notre choix."
   ]
  },
  {
   "cell_type": "code",
   "execution_count": 70,
   "metadata": {},
   "outputs": [
    {
     "name": "stdout",
     "output_type": "stream",
     "text": [
      "The cross validated score for AdaBoost is: 0.952206910767\n"
     ]
    }
   ],
   "source": [
    "from sklearn.ensemble import AdaBoostClassifier\n",
    "ada=AdaBoostClassifier(n_estimators=200,random_state=0,learning_rate=0.1)\n",
    "result=cross_val_score(ada,X,y,cv=10,scoring='accuracy')\n",
    "print('The cross validated score for AdaBoost is:',result.mean())"
   ]
  },
  {
   "cell_type": "markdown",
   "metadata": {},
   "source": [
    "### Submission Adaboost "
   ]
  },
  {
   "cell_type": "code",
   "execution_count": 116,
   "metadata": {},
   "outputs": [],
   "source": [
    "featuers = train.columns[train.columns != 'Criminal']\n",
    "train_x = train[featuers]\n",
    "train_y = train['Criminal']\n",
    "list =['PERID']\n",
    "xx = train.drop(list, axis =1)\n",
    "yy = test.drop(list, axis =1)\n",
    "list1 = ['TROUBUND']\n",
    "xx = xx.drop(list1,axis=1)\n",
    "yy = yy.drop(list1,axis=1)\n",
    "xx = xx.drop('Criminal',axis=1)\n",
    "model = AdaBoostClassifier(n_estimators=300,random_state=0,learning_rate=0.1)\n",
    "model.fit(xx,train_y)\n",
    "predicted = model.predict(yy)\n",
    "sub2 = pd.DataFrame({'PERID':test.PERID, 'Criminal':predicted})\n",
    "sub2 = sub2[['PERID', 'Criminal']]\n",
    "sub2.to_csv('sub_adaboost.csv', index=False)"
   ]
  },
  {
   "cell_type": "markdown",
   "metadata": {},
   "source": [
    "#### Stochastic Gradient Boosting "
   ]
  },
  {
   "cell_type": "code",
   "execution_count": 71,
   "metadata": {},
   "outputs": [
    {
     "name": "stdout",
     "output_type": "stream",
     "text": [
      "The cross validated score for Gradient Boosting is: 0.952031808264\n"
     ]
    }
   ],
   "source": [
    "from sklearn.ensemble import GradientBoostingClassifier\n",
    "grad=GradientBoostingClassifier(n_estimators=500,random_state=0,learning_rate=0.1)\n",
    "result=cross_val_score(grad,X,y,cv=10,scoring='accuracy')\n",
    "print('The cross validated score for Gradient Boosting is:',result.mean())"
   ]
  },
  {
   "cell_type": "markdown",
   "metadata": {},
   "source": [
    "#### Xgboost "
   ]
  },
  {
   "cell_type": "code",
   "execution_count": 101,
   "metadata": {},
   "outputs": [],
   "source": [
    "#import xgboost as xg\n",
    "#xgboost=xg.XGBClassifier(n_estimators=900,learning_rate=0.1)\n",
    "#result=cross_val_score(xgboost,X,y,cv=10,scoring='accuracy')\n",
    "#print('The cross validated score for XGBoost is:',result.mean())"
   ]
  },
  {
   "cell_type": "markdown",
   "metadata": {},
   "source": [
    "Pour Xgboost ma machine a du mal à l'installer avec le terminal Anaconda Prompt, raison pour laquelle j'ai pas pu tourner le code."
   ]
  },
  {
   "cell_type": "markdown",
   "metadata": {},
   "source": [
    "Nous avons obtenu l'exactitude la plus haute pour AdaBoost. \n",
    "Nous essayerons de l'augmenter avec l'Hyper-Parameter Turning"
   ]
  },
  {
   "cell_type": "markdown",
   "metadata": {},
   "source": [
    "#### Hyper-Parameter Tuning for AdaBoost"
   ]
  },
  {
   "cell_type": "code",
   "execution_count": 77,
   "metadata": {},
   "outputs": [
    {
     "name": "stdout",
     "output_type": "stream",
     "text": [
      "Fitting 3 folds for each of 120 candidates, totalling 360 fits\n"
     ]
    },
    {
     "name": "stderr",
     "output_type": "stream",
     "text": [
      "[Parallel(n_jobs=1)]: Done 360 out of 360 | elapsed: 199.2min finished\n"
     ]
    },
    {
     "name": "stdout",
     "output_type": "stream",
     "text": [
      "0.952010149175\n",
      "AdaBoostClassifier(algorithm='SAMME.R', base_estimator=None,\n",
      "          learning_rate=0.05, n_estimators=300, random_state=None)\n"
     ]
    }
   ],
   "source": [
    "from sklearn.model_selection import GridSearchCV\n",
    "n_estimators=list(range(100,1100,100))\n",
    "learn_rate=[0.05,0.1,0.2,0.3,0.25,0.4,0.5,0.6,0.7,0.8,0.9,1]\n",
    "hyper={'n_estimators':n_estimators,'learning_rate':learn_rate}\n",
    "gd=GridSearchCV(estimator=AdaBoostClassifier(),param_grid=hyper,verbose=True)\n",
    "gd.fit(X,y)\n",
    "print(gd.best_score_)\n",
    "print(gd.best_estimator_)"
   ]
  },
  {
   "cell_type": "markdown",
   "metadata": {},
   "source": [
    "####  Matrice de Confusion pour le Meilleur Modèle"
   ]
  },
  {
   "cell_type": "code",
   "execution_count": 81,
   "metadata": {},
   "outputs": [
    {
     "data": {
      "image/png": "[encoded data removed]",
      "text/plain": [
       "<matplotlib.figure.Figure at 0x2778b219d30>"
      ]
     },
     "metadata": {},
     "output_type": "display_data"
    }
   ],
   "source": [
    "from sklearn.model_selection import cross_val_predict #prediction\n",
    "ada=AdaBoostClassifier(n_estimators=200,random_state=0,learning_rate=0.05)\n",
    "result=cross_val_predict(ada,X,y,cv=10)\n",
    "sns.heatmap(confusion_matrix(y,result),cmap='winter',annot=True,fmt='2.0f')\n",
    "plt.show()"
   ]
  },
  {
   "cell_type": "markdown",
   "metadata": {},
   "source": [
    "### Feature Importance"
   ]
  },
  {
   "cell_type": "code",
   "execution_count": 85,
   "metadata": {},
   "outputs": [
    {
     "data": {
      "image/png": "[encoded data removed]",
      "text/plain": [
       "<matplotlib.figure.Figure at 0x27780672a58>"
      ]
     },
     "metadata": {},
     "output_type": "display_data"
    }
   ],
   "source": [
    "f,ax=plt.subplots(2,2,figsize=(15,12))\n",
    "model=RandomForestClassifier(n_estimators=500,random_state=0)\n",
    "model.fit(X,y)\n",
    "pd.Series(model.feature_importances_,X.columns).sort_values(ascending=True).plot.barh(width=0.8,ax=ax[0,0])\n",
    "ax[0,0].set_title('Feature Importance in Random Forests')\n",
    "model=AdaBoostClassifier(n_estimators=200,learning_rate=0.05,random_state=0)\n",
    "model.fit(X,y)\n",
    "pd.Series(model.feature_importances_,X.columns).sort_values(ascending=True).plot.barh(width=0.8,ax=ax[0,1],color='#ddff11')\n",
    "ax[0,1].set_title('Feature Importance in AdaBoost')\n",
    "model=GradientBoostingClassifier(n_estimators=500,learning_rate=0.1,random_state=0)\n",
    "model.fit(X,y)\n",
    "pd.Series(model.feature_importances_,X.columns).sort_values(ascending=True).plot.barh(width=0.8,ax=ax[1,0],cmap='RdYlGn_r')\n",
    "ax[1,0].set_title('Feature Importance in Gradient Boosting')\n",
    "model=DecisionTreeClassifier(class_weight=None, criterion='gini', max_depth=None,\n",
    "            max_features=None, max_leaf_nodes=None,\n",
    "            min_impurity_decrease=0.0, min_impurity_split=None,\n",
    "            min_samples_leaf=1, min_samples_split=2,\n",
    "            min_weight_fraction_leaf=0.0, presort=False, random_state=None,\n",
    "            splitter='best')\n",
    "model.fit(X,y)\n",
    "pd.Series(model.feature_importances_,X.columns).sort_values(ascending=True).plot.barh(width=0.8,ax=ax[1,1],color='#FD0F00')\n",
    "ax[1,1].set_title('Feature Importance in Decission Tree')\n",
    "plt.show()                                              "
   ]
  },
  {
   "cell_type": "markdown",
   "metadata": {},
   "source": [
    "Nous pouvons voir les caractéristiques importantes pour des classificateurs divers comme RandomForests, AdaBoost, etc."
   ]
  },
  {
   "cell_type": "markdown",
   "metadata": {},
   "source": [
    "# Observations\n"
   ]
  },
  {
   "cell_type": "markdown",
   "metadata": {},
   "source": [
    "1)  Certaines des caractéristiques importantes communes sont `ANALWT_C`, `GRPHLTIN`, `IFATHER`"
   ]
  }
 ],
 "metadata": {
  "kernelspec": {
   "display_name": "Python 3",
   "language": "python",
   "name": "python3"
  },
  "language_info": {
   "codemirror_mode": {
    "name": "ipython",
    "version": 3
   },
   "file_extension": ".py",
   "mimetype": "text/x-python",
   "name": "python",
   "nbconvert_exporter": "python",
   "pygments_lexer": "ipython3",
   "version": "3.6.3"
  }
 },
 "nbformat": 4,
 "nbformat_minor": 2
}
